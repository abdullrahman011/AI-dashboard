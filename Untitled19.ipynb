{
  "nbformat": 4,
  "nbformat_minor": 0,
  "metadata": {
    "colab": {
      "provenance": []
    },
    "kernelspec": {
      "name": "python3",
      "display_name": "Python 3"
    },
    "language_info": {
      "name": "python"
    }
  },
  "cells": [
    {
      "cell_type": "code",
      "execution_count": null,
      "metadata": {
        "colab": {
          "base_uri": "https://localhost:8080/"
        },
        "id": "jQPFACqNjOGq",
        "outputId": "900cc137-facb-4fda-8845-5e04313a062e"
      },
      "outputs": [
        {
          "output_type": "stream",
          "name": "stdout",
          "text": [
            "Archive:  data.zip\n",
            "  inflating: /content/dataset/README.dataset.txt  \n",
            "  inflating: /content/dataset/README.roboflow.txt  \n",
            "  inflating: /content/dataset/data.yaml  \n",
            "   creating: /content/dataset/test/\n",
            "   creating: /content/dataset/test/images/\n",
            " extracting: /content/dataset/test/images/WhatsApp-Image-2025-03-24-at-5_14_10-AM-1-_jpeg.rf.c9a34eb2ba39ec21087fcf2817fa6a09.jpg  \n",
            " extracting: /content/dataset/test/images/WhatsApp-Image-2025-03-24-at-5_14_11-AM_jpeg.rf.3d2b9bb400c65f3e57b5d06e345a35d8.jpg  \n",
            " extracting: /content/dataset/test/images/WhatsApp-Image-2025-03-25-at-5_54_11-PM_jpeg.rf.67132f7996dab112da4cf8cf01ceaa8f.jpg  \n",
            " extracting: /content/dataset/test/images/WhatsApp-Image-2025-03-25-at-5_54_13-PM-1-_jpeg.rf.1ebab1b5cc68fb2296d02b6461acc4a0.jpg  \n",
            " extracting: /content/dataset/test/images/WhatsApp-Image-2025-03-25-at-5_56_53-PM-1-_jpeg.rf.00b442762f9bc0ed16a94c210beaa120.jpg  \n",
            " extracting: /content/dataset/test/images/WhatsApp-Image-2025-03-29-at-5_16_15-AM-1-_jpeg.rf.292f7ab6ce41e52f3ed603335cb4fd10.jpg  \n",
            " extracting: /content/dataset/test/images/WhatsApp-Image-2025-03-29-at-5_16_17-AM-1-_jpeg.rf.7b6506a3a9f45ca5d21d9de599fe65a5.jpg  \n",
            "   creating: /content/dataset/test/labels/\n",
            "  inflating: /content/dataset/test/labels/WhatsApp-Image-2025-03-24-at-5_14_10-AM-1-_jpeg.rf.c9a34eb2ba39ec21087fcf2817fa6a09.txt  \n",
            "  inflating: /content/dataset/test/labels/WhatsApp-Image-2025-03-24-at-5_14_11-AM_jpeg.rf.3d2b9bb400c65f3e57b5d06e345a35d8.txt  \n",
            "  inflating: /content/dataset/test/labels/WhatsApp-Image-2025-03-25-at-5_54_11-PM_jpeg.rf.67132f7996dab112da4cf8cf01ceaa8f.txt  \n",
            "  inflating: /content/dataset/test/labels/WhatsApp-Image-2025-03-25-at-5_54_13-PM-1-_jpeg.rf.1ebab1b5cc68fb2296d02b6461acc4a0.txt  \n",
            "  inflating: /content/dataset/test/labels/WhatsApp-Image-2025-03-25-at-5_56_53-PM-1-_jpeg.rf.00b442762f9bc0ed16a94c210beaa120.txt  \n",
            "  inflating: /content/dataset/test/labels/WhatsApp-Image-2025-03-29-at-5_16_15-AM-1-_jpeg.rf.292f7ab6ce41e52f3ed603335cb4fd10.txt  \n",
            "  inflating: /content/dataset/test/labels/WhatsApp-Image-2025-03-29-at-5_16_17-AM-1-_jpeg.rf.7b6506a3a9f45ca5d21d9de599fe65a5.txt  \n",
            "   creating: /content/dataset/train/\n",
            "   creating: /content/dataset/train/images/\n",
            " extracting: /content/dataset/train/images/WhatsApp-Image-2025-03-19-at-5_13_13-PM-1-_jpeg.rf.ae130ed3dd678d4d302c60f4cd2edf6a.jpg  \n",
            " extracting: /content/dataset/train/images/WhatsApp-Image-2025-03-19-at-5_13_13-PM-1-_jpeg.rf.da80480f6c6622e2d18a5633824a0bce.jpg  \n",
            " extracting: /content/dataset/train/images/WhatsApp-Image-2025-03-19-at-5_13_13-PM-1-_jpeg.rf.f78448e1b8ec4c0e9f5b23216da9c8d2.jpg  \n",
            " extracting: /content/dataset/train/images/WhatsApp-Image-2025-03-19-at-5_13_16-PM_jpeg.rf.39e1680ca653cb9ad0a7979c0c2a602e.jpg  \n",
            " extracting: /content/dataset/train/images/WhatsApp-Image-2025-03-19-at-5_13_16-PM_jpeg.rf.82a8d914b5b1555a6f95161a816e4d15.jpg  \n",
            " extracting: /content/dataset/train/images/WhatsApp-Image-2025-03-19-at-5_13_16-PM_jpeg.rf.cb1c8149f27167ba2900c59b4b8ab3e8.jpg  \n",
            " extracting: /content/dataset/train/images/WhatsApp-Image-2025-03-19-at-5_13_17-PM_jpeg.rf.2d3dfe07e6e6c00ffcf526a02c42437a.jpg  \n",
            " extracting: /content/dataset/train/images/WhatsApp-Image-2025-03-19-at-5_13_17-PM_jpeg.rf.4eed1f3e49ba0bc01c599f075c73ffed.jpg  \n",
            " extracting: /content/dataset/train/images/WhatsApp-Image-2025-03-19-at-5_13_17-PM_jpeg.rf.b238767378a536c34fa08b4121fe2cea.jpg  \n",
            " extracting: /content/dataset/train/images/WhatsApp-Image-2025-03-19-at-5_13_18-PM-1-_jpeg.rf.0072dbdead0398a0b19fd78e01bdea92.jpg  \n",
            " extracting: /content/dataset/train/images/WhatsApp-Image-2025-03-19-at-5_13_18-PM-1-_jpeg.rf.3b621b5fe4cc0a7de59fa7bc741068f5.jpg  \n",
            " extracting: /content/dataset/train/images/WhatsApp-Image-2025-03-19-at-5_13_18-PM-1-_jpeg.rf.be548688c74bcc630695f9f9eabb7607.jpg  \n",
            " extracting: /content/dataset/train/images/WhatsApp-Image-2025-03-19-at-5_13_18-PM_jpeg.rf.530b7d0c0ba013e4d96ad622e8ac1130.jpg  \n",
            " extracting: /content/dataset/train/images/WhatsApp-Image-2025-03-19-at-5_13_18-PM_jpeg.rf.70ecc737fddb5041e23ad2dcdf132c4a.jpg  \n",
            " extracting: /content/dataset/train/images/WhatsApp-Image-2025-03-19-at-5_13_18-PM_jpeg.rf.9ae660442bdd08b4fce6080bf47799d0.jpg  \n",
            " extracting: /content/dataset/train/images/WhatsApp-Image-2025-03-19-at-5_36_33-PM_jpeg.rf.225dc5a7d880884e0d3c171433eb6a3c.jpg  \n",
            " extracting: /content/dataset/train/images/WhatsApp-Image-2025-03-19-at-5_36_33-PM_jpeg.rf.cb21b0858d24aa0399a89c77d0faa62c.jpg  \n",
            " extracting: /content/dataset/train/images/WhatsApp-Image-2025-03-19-at-5_36_33-PM_jpeg.rf.e3705e7c42a8451ef79d087e11bc1e6f.jpg  \n",
            " extracting: /content/dataset/train/images/WhatsApp-Image-2025-03-19-at-5_36_34-PM_jpeg.rf.2e021dc92f9dad313cf189fe81283d73.jpg  \n",
            " extracting: /content/dataset/train/images/WhatsApp-Image-2025-03-19-at-5_36_34-PM_jpeg.rf.c859a3de81a51c7f2615d61d41109c65.jpg  \n",
            " extracting: /content/dataset/train/images/WhatsApp-Image-2025-03-19-at-5_36_34-PM_jpeg.rf.f8264c75d06f8a96f0b9e5d9f273a669.jpg  \n",
            " extracting: /content/dataset/train/images/WhatsApp-Image-2025-03-19-at-5_37_56-PM_jpeg.rf.160f4ae77828b83b4999d70f5b1e739b.jpg  \n",
            " extracting: /content/dataset/train/images/WhatsApp-Image-2025-03-19-at-5_37_56-PM_jpeg.rf.2c156f288e79f0b70ad271f9af04c1f5.jpg  \n",
            " extracting: /content/dataset/train/images/WhatsApp-Image-2025-03-19-at-5_37_56-PM_jpeg.rf.98e33f7cc78f143ba3fed8bd7ce39e97.jpg  \n",
            " extracting: /content/dataset/train/images/WhatsApp-Image-2025-03-19-at-5_37_58-PM_jpeg.rf.01d50c0f11e2821569a940cacf38e7ec.jpg  \n",
            " extracting: /content/dataset/train/images/WhatsApp-Image-2025-03-19-at-5_37_58-PM_jpeg.rf.586756acf76368fa9efae5daa6c2d230.jpg  \n",
            " extracting: /content/dataset/train/images/WhatsApp-Image-2025-03-19-at-5_37_58-PM_jpeg.rf.b8b4cf26bf00a641deeff4d2b946fcf9.jpg  \n",
            " extracting: /content/dataset/train/images/WhatsApp-Image-2025-03-19-at-5_37_59-PM_jpeg.rf.03aee129bf5a55a0c3119645f951e54a.jpg  \n",
            " extracting: /content/dataset/train/images/WhatsApp-Image-2025-03-19-at-5_37_59-PM_jpeg.rf.2f1fc5db226c893e10373d49f832e2d2.jpg  \n",
            " extracting: /content/dataset/train/images/WhatsApp-Image-2025-03-19-at-5_37_59-PM_jpeg.rf.84c858b1c65b5ca0be81c7abe409bcd5.jpg  \n",
            " extracting: /content/dataset/train/images/WhatsApp-Image-2025-03-20-at-5_05_11-PM-1-_jpeg.rf.4a24d814562241e8b3ce3a7cdbd930c8.jpg  \n",
            " extracting: /content/dataset/train/images/WhatsApp-Image-2025-03-20-at-5_05_11-PM-1-_jpeg.rf.5fcd8dcdfb2b6e7fe866ad5caf0785e3.jpg  \n",
            " extracting: /content/dataset/train/images/WhatsApp-Image-2025-03-20-at-5_05_11-PM-1-_jpeg.rf.dbbd37a9548fd0c41606b288ec28abb9.jpg  \n",
            " extracting: /content/dataset/train/images/WhatsApp-Image-2025-03-20-at-5_05_11-PM_jpeg.rf.12f27d67f577ec53781e22975b620d07.jpg  \n",
            " extracting: /content/dataset/train/images/WhatsApp-Image-2025-03-20-at-5_05_11-PM_jpeg.rf.6e4883d674c21d66e5eafe450d6ea99d.jpg  \n",
            " extracting: /content/dataset/train/images/WhatsApp-Image-2025-03-20-at-5_05_11-PM_jpeg.rf.900ffb4ee18584ccc793e6f8c3dbff7c.jpg  \n",
            " extracting: /content/dataset/train/images/WhatsApp-Image-2025-03-20-at-5_05_12-PM-1-_jpeg.rf.6397e67a662fec9ae5ae1c044092149d.jpg  \n",
            " extracting: /content/dataset/train/images/WhatsApp-Image-2025-03-20-at-5_05_12-PM-1-_jpeg.rf.ab1b2dbb5cc7bd918b031d2627e22706.jpg  \n",
            " extracting: /content/dataset/train/images/WhatsApp-Image-2025-03-20-at-5_05_12-PM-1-_jpeg.rf.e48fa28705463feade423e54d3bda322.jpg  \n",
            " extracting: /content/dataset/train/images/WhatsApp-Image-2025-03-22-at-4_58_02-PM_jpeg.rf.8d18095b57bd302a17139cd284f7e6b7.jpg  \n",
            " extracting: /content/dataset/train/images/WhatsApp-Image-2025-03-22-at-4_58_02-PM_jpeg.rf.b5d98794b28bf97c470d920efda950a3.jpg  \n",
            " extracting: /content/dataset/train/images/WhatsApp-Image-2025-03-22-at-4_58_02-PM_jpeg.rf.ca5c47b564dc948c39ab059779a56339.jpg  \n",
            " extracting: /content/dataset/train/images/WhatsApp-Image-2025-03-22-at-4_58_03-PM-1-_jpeg.rf.36de2f623abdf12b88ed3098b551c40d.jpg  \n",
            " extracting: /content/dataset/train/images/WhatsApp-Image-2025-03-22-at-4_58_03-PM-1-_jpeg.rf.b7c5b5d86a790ef053f6f86d0dbf274c.jpg  \n",
            " extracting: /content/dataset/train/images/WhatsApp-Image-2025-03-22-at-4_58_03-PM-1-_jpeg.rf.d852c05166a07a20847bdab754a8b2ce.jpg  \n",
            " extracting: /content/dataset/train/images/WhatsApp-Image-2025-03-22-at-4_58_03-PM-2-_jpeg.rf.53ce72bafb81fa406c56048dfc9ce2a3.jpg  \n",
            " extracting: /content/dataset/train/images/WhatsApp-Image-2025-03-22-at-4_58_03-PM-2-_jpeg.rf.c7c7fd73e7d407fecb678b3917f3b246.jpg  \n",
            " extracting: /content/dataset/train/images/WhatsApp-Image-2025-03-22-at-4_58_03-PM-2-_jpeg.rf.f44d74a2d3c57d3ca9e2f78ad8e0b256.jpg  \n",
            " extracting: /content/dataset/train/images/WhatsApp-Image-2025-03-22-at-4_58_03-PM_jpeg.rf.5380e6f319f791bbc9c3c6b14cf1ff31.jpg  \n",
            " extracting: /content/dataset/train/images/WhatsApp-Image-2025-03-22-at-4_58_03-PM_jpeg.rf.99af899875fb00e80cbb436c9d64650f.jpg  \n",
            " extracting: /content/dataset/train/images/WhatsApp-Image-2025-03-22-at-4_58_03-PM_jpeg.rf.a99c679aa2768b66f5a9becc3193be2e.jpg  \n",
            " extracting: /content/dataset/train/images/WhatsApp-Image-2025-03-22-at-4_58_04-PM-1-_jpeg.rf.9b8617b184ee81f0f59c8a9f616f6a39.jpg  \n",
            " extracting: /content/dataset/train/images/WhatsApp-Image-2025-03-22-at-4_58_04-PM-1-_jpeg.rf.a3837cd5782bf2e4303fdc21d54182d8.jpg  \n",
            " extracting: /content/dataset/train/images/WhatsApp-Image-2025-03-22-at-4_58_04-PM-1-_jpeg.rf.fc8d0b234efeb43f7323c379eeb33519.jpg  \n",
            " extracting: /content/dataset/train/images/WhatsApp-Image-2025-03-24-at-5_14_08-AM-1-_jpeg.rf.25b8d69f3e7fab6f2cb469e17b58b1f8.jpg  \n",
            " extracting: /content/dataset/train/images/WhatsApp-Image-2025-03-24-at-5_14_08-AM-1-_jpeg.rf.35fdef0b07cd5cfc4e72dea324abda71.jpg  \n",
            " extracting: /content/dataset/train/images/WhatsApp-Image-2025-03-24-at-5_14_08-AM-1-_jpeg.rf.84ace07c19e3faabea3804f2af48465c.jpg  \n",
            " extracting: /content/dataset/train/images/WhatsApp-Image-2025-03-24-at-5_14_08-AM_jpeg.rf.746b8a96154173e5510bdfd8fe0bc35c.jpg  \n",
            " extracting: /content/dataset/train/images/WhatsApp-Image-2025-03-24-at-5_14_08-AM_jpeg.rf.758f9865af1d3595ff88055403fb6db5.jpg  \n",
            " extracting: /content/dataset/train/images/WhatsApp-Image-2025-03-24-at-5_14_08-AM_jpeg.rf.897ddfdc35622b888ebe553282d16f85.jpg  \n",
            " extracting: /content/dataset/train/images/WhatsApp-Image-2025-03-24-at-5_14_09-AM-1-_jpeg.rf.0819d9cc48c86a9b1607b5c431bcae51.jpg  \n",
            " extracting: /content/dataset/train/images/WhatsApp-Image-2025-03-24-at-5_14_09-AM-1-_jpeg.rf.6805baeb96b00b4674b6289ee5d305c8.jpg  \n",
            " extracting: /content/dataset/train/images/WhatsApp-Image-2025-03-24-at-5_14_09-AM-1-_jpeg.rf.a1ab1d5584b65fa5bf893bc5da57f18e.jpg  \n",
            " extracting: /content/dataset/train/images/WhatsApp-Image-2025-03-24-at-5_14_09-AM_jpeg.rf.1b45be3d3498961039b0eb4db9f7049d.jpg  \n",
            " extracting: /content/dataset/train/images/WhatsApp-Image-2025-03-24-at-5_14_09-AM_jpeg.rf.631374bec64c7d3601840f9fb2cee12d.jpg  \n",
            " extracting: /content/dataset/train/images/WhatsApp-Image-2025-03-24-at-5_14_09-AM_jpeg.rf.bed27a04b557449936fddb87b578a15c.jpg  \n",
            " extracting: /content/dataset/train/images/WhatsApp-Image-2025-03-24-at-5_14_11-AM-1-_jpeg.rf.2ee2c0d2650795b6453fecebcda7a229.jpg  \n",
            " extracting: /content/dataset/train/images/WhatsApp-Image-2025-03-24-at-5_14_11-AM-1-_jpeg.rf.6022751e7e173a337ffc151ce2a3c52a.jpg  \n",
            " extracting: /content/dataset/train/images/WhatsApp-Image-2025-03-24-at-5_14_11-AM-1-_jpeg.rf.82fa9669bbfd7cb80dbfe628a5c5a910.jpg  \n",
            " extracting: /content/dataset/train/images/WhatsApp-Image-2025-03-24-at-5_14_12-AM-1-_jpeg.rf.52b07a6a6000621680b48918ff79060c.jpg  \n",
            " extracting: /content/dataset/train/images/WhatsApp-Image-2025-03-24-at-5_14_12-AM-1-_jpeg.rf.c3e7e8f609627cc8cf578b51f7038b58.jpg  \n",
            " extracting: /content/dataset/train/images/WhatsApp-Image-2025-03-24-at-5_14_12-AM-1-_jpeg.rf.e41d54a4a8bc71f0a7d8bcc325c65bdb.jpg  \n",
            " extracting: /content/dataset/train/images/WhatsApp-Image-2025-03-24-at-5_14_12-AM_jpeg.rf.3012cd30bd300905e605828357f7c132.jpg  \n",
            " extracting: /content/dataset/train/images/WhatsApp-Image-2025-03-24-at-5_14_12-AM_jpeg.rf.80d640506e7e3525b45a35a7360c1d00.jpg  \n",
            " extracting: /content/dataset/train/images/WhatsApp-Image-2025-03-24-at-5_14_12-AM_jpeg.rf.f4415f0234d760e525bd28db90307da1.jpg  \n",
            " extracting: /content/dataset/train/images/WhatsApp-Image-2025-03-24-at-5_14_13-AM_jpeg.rf.4227f79e764532d532392a2278b3c477.jpg  \n",
            " extracting: /content/dataset/train/images/WhatsApp-Image-2025-03-24-at-5_14_13-AM_jpeg.rf.58cb95de4adb02661485aed4c0856cad.jpg  \n",
            " extracting: /content/dataset/train/images/WhatsApp-Image-2025-03-24-at-5_14_13-AM_jpeg.rf.ba8eaf3d6d2217dd94b27b33213caa39.jpg  \n",
            " extracting: /content/dataset/train/images/WhatsApp-Image-2025-03-25-at-5_54_10-PM-1-_jpeg.rf.725483006cf2fddecaf0e4c932bcc293.jpg  \n",
            " extracting: /content/dataset/train/images/WhatsApp-Image-2025-03-25-at-5_54_10-PM-1-_jpeg.rf.7eba8426d62cbb80b30a110ae787e616.jpg  \n",
            " extracting: /content/dataset/train/images/WhatsApp-Image-2025-03-25-at-5_54_10-PM-1-_jpeg.rf.b725a0a6f8c1e1b63b4ab81e74b03c34.jpg  \n",
            " extracting: /content/dataset/train/images/WhatsApp-Image-2025-03-25-at-5_54_11-PM-1-_jpeg.rf.237124cd4f7823747741ad82560ee88c.jpg  \n",
            " extracting: /content/dataset/train/images/WhatsApp-Image-2025-03-25-at-5_54_11-PM-1-_jpeg.rf.6c8ddd50bc92b576ea275342539bcf80.jpg  \n",
            " extracting: /content/dataset/train/images/WhatsApp-Image-2025-03-25-at-5_54_11-PM-1-_jpeg.rf.887467f4a84db3c363b3795a49021c63.jpg  \n",
            " extracting: /content/dataset/train/images/WhatsApp-Image-2025-03-25-at-5_54_12-PM-2-_jpeg.rf.1e103bdfe8643c852e1511887e27917d.jpg  \n",
            " extracting: /content/dataset/train/images/WhatsApp-Image-2025-03-25-at-5_54_12-PM-2-_jpeg.rf.2ea113d186a8958c791d8f33cc26f347.jpg  \n",
            " extracting: /content/dataset/train/images/WhatsApp-Image-2025-03-25-at-5_54_12-PM-2-_jpeg.rf.429204b3328c552c4075cd2a60253c52.jpg  \n",
            " extracting: /content/dataset/train/images/WhatsApp-Image-2025-03-25-at-5_54_12-PM_jpeg.rf.0478ffe96c1b6e06099111f215863fa0.jpg  \n",
            " extracting: /content/dataset/train/images/WhatsApp-Image-2025-03-25-at-5_54_12-PM_jpeg.rf.d7dc62cf95676a545818a18144190c3f.jpg  \n",
            " extracting: /content/dataset/train/images/WhatsApp-Image-2025-03-25-at-5_54_12-PM_jpeg.rf.d7ec6fcacfd07675a8eb11ffb8c22f9f.jpg  \n",
            " extracting: /content/dataset/train/images/WhatsApp-Image-2025-03-25-at-5_56_49-PM_jpeg.rf.50a223eb5a2da409e306ec3b3303f61b.jpg  \n",
            " extracting: /content/dataset/train/images/WhatsApp-Image-2025-03-25-at-5_56_49-PM_jpeg.rf.c0f96e27f4b0f271667ce2469c377042.jpg  \n",
            " extracting: /content/dataset/train/images/WhatsApp-Image-2025-03-25-at-5_56_49-PM_jpeg.rf.d97e0aeb3c3d3e3a16df027df0d34a14.jpg  \n",
            " extracting: /content/dataset/train/images/WhatsApp-Image-2025-03-25-at-5_56_52-PM-1-_jpeg.rf.39cb676d8391ae428652fa228cf69cac.jpg  \n",
            " extracting: /content/dataset/train/images/WhatsApp-Image-2025-03-25-at-5_56_52-PM-1-_jpeg.rf.4f876e3efd8899c2cc6540d92b5e45a0.jpg  \n",
            " extracting: /content/dataset/train/images/WhatsApp-Image-2025-03-25-at-5_56_52-PM-1-_jpeg.rf.929a1aa8475fcc8b10abe0d6bd622356.jpg  \n",
            " extracting: /content/dataset/train/images/WhatsApp-Image-2025-03-25-at-5_56_52-PM_jpeg.rf.90ee77b3fb85c15ce46d251b2d9dadc5.jpg  \n",
            " extracting: /content/dataset/train/images/WhatsApp-Image-2025-03-25-at-5_56_52-PM_jpeg.rf.a602c050a1353ef774254a3919ea6201.jpg  \n",
            " extracting: /content/dataset/train/images/WhatsApp-Image-2025-03-25-at-5_56_52-PM_jpeg.rf.d1b5ab42a2f0e5e42f916b06087830c3.jpg  \n",
            " extracting: /content/dataset/train/images/WhatsApp-Image-2025-03-25-at-5_56_54-PM-1-_jpeg.rf.b3e7ca190c8517b83f65150bfa2e2d5e.jpg  \n",
            " extracting: /content/dataset/train/images/WhatsApp-Image-2025-03-25-at-5_56_54-PM-1-_jpeg.rf.e8ddd3d9fb9a3bc389e231471cb82e71.jpg  \n",
            " extracting: /content/dataset/train/images/WhatsApp-Image-2025-03-25-at-5_56_54-PM-1-_jpeg.rf.f02db1816032453cf5ccd57cccf59383.jpg  \n",
            " extracting: /content/dataset/train/images/WhatsApp-Image-2025-03-25-at-5_56_54-PM_jpeg.rf.492261776c5dcf5425acf3bffe047a98.jpg  \n",
            " extracting: /content/dataset/train/images/WhatsApp-Image-2025-03-25-at-5_56_54-PM_jpeg.rf.5779a1e5639c3d6888ebd8b45c8aba9d.jpg  \n",
            " extracting: /content/dataset/train/images/WhatsApp-Image-2025-03-25-at-5_56_54-PM_jpeg.rf.9076a779a8791d479e18bb8d7f7e0c59.jpg  \n",
            " extracting: /content/dataset/train/images/WhatsApp-Image-2025-03-25-at-5_56_55-PM_jpeg.rf.76763d1eba12ebd845f5f78766c7bfe6.jpg  \n",
            " extracting: /content/dataset/train/images/WhatsApp-Image-2025-03-25-at-5_56_55-PM_jpeg.rf.a5caee7ef1582688ada79d03b817870e.jpg  \n",
            " extracting: /content/dataset/train/images/WhatsApp-Image-2025-03-25-at-5_56_55-PM_jpeg.rf.c32b72081bdeef6bbcedf14e677caa29.jpg  \n",
            " extracting: /content/dataset/train/images/WhatsApp-Image-2025-03-25-at-6_01_25-PM-1-_jpeg.rf.898065f4fe7636020bd16c98d851432e.jpg  \n",
            " extracting: /content/dataset/train/images/WhatsApp-Image-2025-03-25-at-6_01_25-PM-1-_jpeg.rf.a87d86109efdef3602c905eef7a8f45e.jpg  \n",
            " extracting: /content/dataset/train/images/WhatsApp-Image-2025-03-25-at-6_01_25-PM-1-_jpeg.rf.d8bf8a12ffa9a8a5f522a8b755fb6b24.jpg  \n",
            " extracting: /content/dataset/train/images/WhatsApp-Image-2025-03-25-at-6_01_25-PM_jpeg.rf.16e2d57df4a887beff3ab1a62b346548.jpg  \n",
            " extracting: /content/dataset/train/images/WhatsApp-Image-2025-03-25-at-6_01_25-PM_jpeg.rf.f8023fb3ebb99802816bc2510070c324.jpg  \n",
            " extracting: /content/dataset/train/images/WhatsApp-Image-2025-03-25-at-6_01_25-PM_jpeg.rf.fac71d14a8fadc42b88376a790c7d8e7.jpg  \n",
            " extracting: /content/dataset/train/images/WhatsApp-Image-2025-03-26-at-3_08_11-PM-1-_jpeg.rf.08cda0da20d01599357c118537e76521.jpg  \n",
            " extracting: /content/dataset/train/images/WhatsApp-Image-2025-03-26-at-3_08_11-PM-1-_jpeg.rf.56cd4f5056a772d9fe0ea07b9ae3be14.jpg  \n",
            " extracting: /content/dataset/train/images/WhatsApp-Image-2025-03-26-at-3_08_11-PM-1-_jpeg.rf.bf397eed4a9ae956ccc9659116ff5e77.jpg  \n",
            " extracting: /content/dataset/train/images/WhatsApp-Image-2025-03-26-at-3_08_11-PM_jpeg.rf.27db84851b8da3857ded2b4fe336bb51.jpg  \n",
            " extracting: /content/dataset/train/images/WhatsApp-Image-2025-03-26-at-3_08_11-PM_jpeg.rf.33f20ae8a730a564ab4b68bd129d12f5.jpg  \n",
            " extracting: /content/dataset/train/images/WhatsApp-Image-2025-03-26-at-3_08_11-PM_jpeg.rf.624020e3025153c79771bc1a7e9ab121.jpg  \n",
            " extracting: /content/dataset/train/images/WhatsApp-Image-2025-03-26-at-3_08_12-PM_jpeg.rf.62b5025afc7b11634bd6381ffb98434a.jpg  \n",
            " extracting: /content/dataset/train/images/WhatsApp-Image-2025-03-26-at-3_08_12-PM_jpeg.rf.95cd1424fb2eee97d55328960015f41b.jpg  \n",
            " extracting: /content/dataset/train/images/WhatsApp-Image-2025-03-26-at-3_08_12-PM_jpeg.rf.f24df685d5b25e8dfa713c3c3f1f08b9.jpg  \n",
            " extracting: /content/dataset/train/images/WhatsApp-Image-2025-03-29-at-5_16_11-AM_jpeg.rf.25fe0b20e38aa9d59d523f009e376ae8.jpg  \n",
            " extracting: /content/dataset/train/images/WhatsApp-Image-2025-03-29-at-5_16_11-AM_jpeg.rf.46770455e23b6e1d856e0d6c4e47972b.jpg  \n",
            " extracting: /content/dataset/train/images/WhatsApp-Image-2025-03-29-at-5_16_11-AM_jpeg.rf.83fe4b6555c816741f93b717a2fbba5b.jpg  \n",
            " extracting: /content/dataset/train/images/WhatsApp-Image-2025-03-29-at-5_16_12-AM_jpeg.rf.0aefdb91f6d4c0e7da48134acf999f91.jpg  \n",
            " extracting: /content/dataset/train/images/WhatsApp-Image-2025-03-29-at-5_16_12-AM_jpeg.rf.191407298ad6aa0278fd55cede0944ba.jpg  \n",
            " extracting: /content/dataset/train/images/WhatsApp-Image-2025-03-29-at-5_16_12-AM_jpeg.rf.3076ac6e889254476895dd7c8919549f.jpg  \n",
            " extracting: /content/dataset/train/images/WhatsApp-Image-2025-03-29-at-5_16_13-AM_jpeg.rf.138686c4c7719411634f52a9e46dcb54.jpg  \n",
            " extracting: /content/dataset/train/images/WhatsApp-Image-2025-03-29-at-5_16_13-AM_jpeg.rf.e2dfa0b365cb31211dceff36a2dcdbaf.jpg  \n",
            " extracting: /content/dataset/train/images/WhatsApp-Image-2025-03-29-at-5_16_13-AM_jpeg.rf.f283ad4ea848cb83861e21474f10ad49.jpg  \n",
            " extracting: /content/dataset/train/images/WhatsApp-Image-2025-03-29-at-5_16_14-AM-1-_jpeg.rf.2febabd9f30adb3d9cd072b7c6633479.jpg  \n",
            " extracting: /content/dataset/train/images/WhatsApp-Image-2025-03-29-at-5_16_14-AM-1-_jpeg.rf.7d30906cf96e529cb4acfd20295d409a.jpg  \n",
            " extracting: /content/dataset/train/images/WhatsApp-Image-2025-03-29-at-5_16_14-AM-1-_jpeg.rf.9d3c6715a65e074d59c712939c5158ab.jpg  \n",
            " extracting: /content/dataset/train/images/WhatsApp-Image-2025-03-29-at-5_16_14-AM_jpeg.rf.0b3aaedf485cc65342d6c4388ab845e4.jpg  \n",
            " extracting: /content/dataset/train/images/WhatsApp-Image-2025-03-29-at-5_16_14-AM_jpeg.rf.0d0dcebdf9a3a22633eceac0c1681aab.jpg  \n",
            " extracting: /content/dataset/train/images/WhatsApp-Image-2025-03-29-at-5_16_14-AM_jpeg.rf.e4c1be7e054407b7a08adb9c8a379447.jpg  \n",
            " extracting: /content/dataset/train/images/WhatsApp-Image-2025-03-29-at-5_16_15-AM_jpeg.rf.15d18cd3adbbd6147f2199df922a2dfc.jpg  \n",
            " extracting: /content/dataset/train/images/WhatsApp-Image-2025-03-29-at-5_16_15-AM_jpeg.rf.28514492c094c35f713cfd66966c6fbe.jpg  \n",
            " extracting: /content/dataset/train/images/WhatsApp-Image-2025-03-29-at-5_16_15-AM_jpeg.rf.c75551fb7c2e3b912a26f210b38afa43.jpg  \n",
            " extracting: /content/dataset/train/images/WhatsApp-Image-2025-03-29-at-5_16_16-AM_jpeg.rf.319cbcf7572467c9368387bba8f0f9fd.jpg  \n",
            " extracting: /content/dataset/train/images/WhatsApp-Image-2025-03-29-at-5_16_16-AM_jpeg.rf.84b67ccee05ea081e04bc93a9f836457.jpg  \n",
            " extracting: /content/dataset/train/images/WhatsApp-Image-2025-03-29-at-5_16_16-AM_jpeg.rf.a35b211858ba216a9765d558c1701afb.jpg  \n",
            " extracting: /content/dataset/train/images/WhatsApp-Image-2025-03-29-at-5_16_17-AM_jpeg.rf.0bfc041d28a145d959edc4ba06f80cc8.jpg  \n",
            " extracting: /content/dataset/train/images/WhatsApp-Image-2025-03-29-at-5_16_17-AM_jpeg.rf.87aeb8e51251a94cfc81105498aab96d.jpg  \n",
            " extracting: /content/dataset/train/images/WhatsApp-Image-2025-03-29-at-5_16_17-AM_jpeg.rf.f5bcdc21789df99ee13fc0d0c9b5f58b.jpg  \n",
            " extracting: /content/dataset/train/images/WhatsApp-Image-2025-03-29-at-5_16_18-AM_jpeg.rf.6936d62d9c5f7d7bc018de6d059a8b75.jpg  \n",
            " extracting: /content/dataset/train/images/WhatsApp-Image-2025-03-29-at-5_16_18-AM_jpeg.rf.bac2e233abef5235f46c71fbafd2cd8f.jpg  \n",
            " extracting: /content/dataset/train/images/WhatsApp-Image-2025-03-29-at-5_16_18-AM_jpeg.rf.dd4d9338f8a55bccfb16e4b725f18202.jpg  \n",
            " extracting: /content/dataset/train/images/WhatsApp-Image-2025-03-29-at-5_16_19-AM_jpeg.rf.1312fa36af1a045cc2db45804d99cd90.jpg  \n",
            " extracting: /content/dataset/train/images/WhatsApp-Image-2025-03-29-at-5_16_19-AM_jpeg.rf.67fab8cdce0a010bd88cc5f389f0839c.jpg  \n",
            " extracting: /content/dataset/train/images/WhatsApp-Image-2025-03-29-at-5_16_19-AM_jpeg.rf.bfc0ff025c3cdb4959394b21a4199141.jpg  \n",
            " extracting: /content/dataset/train/images/WhatsApp-Image-2025-03-30-at-2_16_12-AM_jpeg.rf.3d9023b4c5ddd3f202352191efbe5c84.jpg  \n",
            " extracting: /content/dataset/train/images/WhatsApp-Image-2025-03-30-at-2_16_12-AM_jpeg.rf.ae95e03a9f7da5b49d152798f1f017cb.jpg  \n",
            " extracting: /content/dataset/train/images/WhatsApp-Image-2025-03-30-at-2_16_12-AM_jpeg.rf.ba87062983765f552dc74ba54ee53324.jpg  \n",
            " extracting: /content/dataset/train/images/WhatsApp-Image-2025-03-30-at-2_16_13-AM_jpeg.rf.0aba8a2b43d8377c62013760215018a3.jpg  \n",
            " extracting: /content/dataset/train/images/WhatsApp-Image-2025-03-30-at-2_16_13-AM_jpeg.rf.373e7814ad7c902735d2cdea5bf82062.jpg  \n",
            " extracting: /content/dataset/train/images/WhatsApp-Image-2025-03-30-at-2_16_13-AM_jpeg.rf.85e730839d1bd5c3cf5bb9df8228f37c.jpg  \n",
            "   creating: /content/dataset/train/labels/\n",
            "  inflating: /content/dataset/train/labels/WhatsApp-Image-2025-03-19-at-5_13_13-PM-1-_jpeg.rf.ae130ed3dd678d4d302c60f4cd2edf6a.txt  \n",
            "  inflating: /content/dataset/train/labels/WhatsApp-Image-2025-03-19-at-5_13_13-PM-1-_jpeg.rf.da80480f6c6622e2d18a5633824a0bce.txt  \n",
            "  inflating: /content/dataset/train/labels/WhatsApp-Image-2025-03-19-at-5_13_13-PM-1-_jpeg.rf.f78448e1b8ec4c0e9f5b23216da9c8d2.txt  \n",
            "  inflating: /content/dataset/train/labels/WhatsApp-Image-2025-03-19-at-5_13_16-PM_jpeg.rf.39e1680ca653cb9ad0a7979c0c2a602e.txt  \n",
            "  inflating: /content/dataset/train/labels/WhatsApp-Image-2025-03-19-at-5_13_16-PM_jpeg.rf.82a8d914b5b1555a6f95161a816e4d15.txt  \n",
            "  inflating: /content/dataset/train/labels/WhatsApp-Image-2025-03-19-at-5_13_16-PM_jpeg.rf.cb1c8149f27167ba2900c59b4b8ab3e8.txt  \n",
            "  inflating: /content/dataset/train/labels/WhatsApp-Image-2025-03-19-at-5_13_17-PM_jpeg.rf.2d3dfe07e6e6c00ffcf526a02c42437a.txt  \n",
            "  inflating: /content/dataset/train/labels/WhatsApp-Image-2025-03-19-at-5_13_17-PM_jpeg.rf.4eed1f3e49ba0bc01c599f075c73ffed.txt  \n",
            "  inflating: /content/dataset/train/labels/WhatsApp-Image-2025-03-19-at-5_13_17-PM_jpeg.rf.b238767378a536c34fa08b4121fe2cea.txt  \n",
            "  inflating: /content/dataset/train/labels/WhatsApp-Image-2025-03-19-at-5_13_18-PM-1-_jpeg.rf.0072dbdead0398a0b19fd78e01bdea92.txt  \n",
            "  inflating: /content/dataset/train/labels/WhatsApp-Image-2025-03-19-at-5_13_18-PM-1-_jpeg.rf.3b621b5fe4cc0a7de59fa7bc741068f5.txt  \n",
            "  inflating: /content/dataset/train/labels/WhatsApp-Image-2025-03-19-at-5_13_18-PM-1-_jpeg.rf.be548688c74bcc630695f9f9eabb7607.txt  \n",
            "  inflating: /content/dataset/train/labels/WhatsApp-Image-2025-03-19-at-5_13_18-PM_jpeg.rf.530b7d0c0ba013e4d96ad622e8ac1130.txt  \n",
            "  inflating: /content/dataset/train/labels/WhatsApp-Image-2025-03-19-at-5_13_18-PM_jpeg.rf.70ecc737fddb5041e23ad2dcdf132c4a.txt  \n",
            "  inflating: /content/dataset/train/labels/WhatsApp-Image-2025-03-19-at-5_13_18-PM_jpeg.rf.9ae660442bdd08b4fce6080bf47799d0.txt  \n",
            "  inflating: /content/dataset/train/labels/WhatsApp-Image-2025-03-19-at-5_36_33-PM_jpeg.rf.225dc5a7d880884e0d3c171433eb6a3c.txt  \n",
            "  inflating: /content/dataset/train/labels/WhatsApp-Image-2025-03-19-at-5_36_33-PM_jpeg.rf.cb21b0858d24aa0399a89c77d0faa62c.txt  \n",
            "  inflating: /content/dataset/train/labels/WhatsApp-Image-2025-03-19-at-5_36_33-PM_jpeg.rf.e3705e7c42a8451ef79d087e11bc1e6f.txt  \n",
            "  inflating: /content/dataset/train/labels/WhatsApp-Image-2025-03-19-at-5_36_34-PM_jpeg.rf.2e021dc92f9dad313cf189fe81283d73.txt  \n",
            "  inflating: /content/dataset/train/labels/WhatsApp-Image-2025-03-19-at-5_36_34-PM_jpeg.rf.c859a3de81a51c7f2615d61d41109c65.txt  \n",
            "  inflating: /content/dataset/train/labels/WhatsApp-Image-2025-03-19-at-5_36_34-PM_jpeg.rf.f8264c75d06f8a96f0b9e5d9f273a669.txt  \n",
            "  inflating: /content/dataset/train/labels/WhatsApp-Image-2025-03-19-at-5_37_56-PM_jpeg.rf.160f4ae77828b83b4999d70f5b1e739b.txt  \n",
            "  inflating: /content/dataset/train/labels/WhatsApp-Image-2025-03-19-at-5_37_56-PM_jpeg.rf.2c156f288e79f0b70ad271f9af04c1f5.txt  \n",
            "  inflating: /content/dataset/train/labels/WhatsApp-Image-2025-03-19-at-5_37_56-PM_jpeg.rf.98e33f7cc78f143ba3fed8bd7ce39e97.txt  \n",
            "  inflating: /content/dataset/train/labels/WhatsApp-Image-2025-03-19-at-5_37_58-PM_jpeg.rf.01d50c0f11e2821569a940cacf38e7ec.txt  \n",
            "  inflating: /content/dataset/train/labels/WhatsApp-Image-2025-03-19-at-5_37_58-PM_jpeg.rf.586756acf76368fa9efae5daa6c2d230.txt  \n",
            "  inflating: /content/dataset/train/labels/WhatsApp-Image-2025-03-19-at-5_37_58-PM_jpeg.rf.b8b4cf26bf00a641deeff4d2b946fcf9.txt  \n",
            "  inflating: /content/dataset/train/labels/WhatsApp-Image-2025-03-19-at-5_37_59-PM_jpeg.rf.03aee129bf5a55a0c3119645f951e54a.txt  \n",
            "  inflating: /content/dataset/train/labels/WhatsApp-Image-2025-03-19-at-5_37_59-PM_jpeg.rf.2f1fc5db226c893e10373d49f832e2d2.txt  \n",
            "  inflating: /content/dataset/train/labels/WhatsApp-Image-2025-03-19-at-5_37_59-PM_jpeg.rf.84c858b1c65b5ca0be81c7abe409bcd5.txt  \n",
            "  inflating: /content/dataset/train/labels/WhatsApp-Image-2025-03-20-at-5_05_11-PM-1-_jpeg.rf.4a24d814562241e8b3ce3a7cdbd930c8.txt  \n",
            "  inflating: /content/dataset/train/labels/WhatsApp-Image-2025-03-20-at-5_05_11-PM-1-_jpeg.rf.5fcd8dcdfb2b6e7fe866ad5caf0785e3.txt  \n",
            "  inflating: /content/dataset/train/labels/WhatsApp-Image-2025-03-20-at-5_05_11-PM-1-_jpeg.rf.dbbd37a9548fd0c41606b288ec28abb9.txt  \n",
            "  inflating: /content/dataset/train/labels/WhatsApp-Image-2025-03-20-at-5_05_11-PM_jpeg.rf.12f27d67f577ec53781e22975b620d07.txt  \n",
            "  inflating: /content/dataset/train/labels/WhatsApp-Image-2025-03-20-at-5_05_11-PM_jpeg.rf.6e4883d674c21d66e5eafe450d6ea99d.txt  \n",
            "  inflating: /content/dataset/train/labels/WhatsApp-Image-2025-03-20-at-5_05_11-PM_jpeg.rf.900ffb4ee18584ccc793e6f8c3dbff7c.txt  \n",
            "  inflating: /content/dataset/train/labels/WhatsApp-Image-2025-03-20-at-5_05_12-PM-1-_jpeg.rf.6397e67a662fec9ae5ae1c044092149d.txt  \n",
            "  inflating: /content/dataset/train/labels/WhatsApp-Image-2025-03-20-at-5_05_12-PM-1-_jpeg.rf.ab1b2dbb5cc7bd918b031d2627e22706.txt  \n",
            "  inflating: /content/dataset/train/labels/WhatsApp-Image-2025-03-20-at-5_05_12-PM-1-_jpeg.rf.e48fa28705463feade423e54d3bda322.txt  \n",
            "  inflating: /content/dataset/train/labels/WhatsApp-Image-2025-03-22-at-4_58_02-PM_jpeg.rf.8d18095b57bd302a17139cd284f7e6b7.txt  \n",
            "  inflating: /content/dataset/train/labels/WhatsApp-Image-2025-03-22-at-4_58_02-PM_jpeg.rf.b5d98794b28bf97c470d920efda950a3.txt  \n",
            "  inflating: /content/dataset/train/labels/WhatsApp-Image-2025-03-22-at-4_58_02-PM_jpeg.rf.ca5c47b564dc948c39ab059779a56339.txt  \n",
            "  inflating: /content/dataset/train/labels/WhatsApp-Image-2025-03-22-at-4_58_03-PM-1-_jpeg.rf.36de2f623abdf12b88ed3098b551c40d.txt  \n",
            "  inflating: /content/dataset/train/labels/WhatsApp-Image-2025-03-22-at-4_58_03-PM-1-_jpeg.rf.b7c5b5d86a790ef053f6f86d0dbf274c.txt  \n",
            "  inflating: /content/dataset/train/labels/WhatsApp-Image-2025-03-22-at-4_58_03-PM-1-_jpeg.rf.d852c05166a07a20847bdab754a8b2ce.txt  \n",
            "  inflating: /content/dataset/train/labels/WhatsApp-Image-2025-03-22-at-4_58_03-PM-2-_jpeg.rf.53ce72bafb81fa406c56048dfc9ce2a3.txt  \n",
            "  inflating: /content/dataset/train/labels/WhatsApp-Image-2025-03-22-at-4_58_03-PM-2-_jpeg.rf.c7c7fd73e7d407fecb678b3917f3b246.txt  \n",
            "  inflating: /content/dataset/train/labels/WhatsApp-Image-2025-03-22-at-4_58_03-PM-2-_jpeg.rf.f44d74a2d3c57d3ca9e2f78ad8e0b256.txt  \n",
            "  inflating: /content/dataset/train/labels/WhatsApp-Image-2025-03-22-at-4_58_03-PM_jpeg.rf.5380e6f319f791bbc9c3c6b14cf1ff31.txt  \n",
            "  inflating: /content/dataset/train/labels/WhatsApp-Image-2025-03-22-at-4_58_03-PM_jpeg.rf.99af899875fb00e80cbb436c9d64650f.txt  \n",
            "  inflating: /content/dataset/train/labels/WhatsApp-Image-2025-03-22-at-4_58_03-PM_jpeg.rf.a99c679aa2768b66f5a9becc3193be2e.txt  \n",
            "  inflating: /content/dataset/train/labels/WhatsApp-Image-2025-03-22-at-4_58_04-PM-1-_jpeg.rf.9b8617b184ee81f0f59c8a9f616f6a39.txt  \n",
            "  inflating: /content/dataset/train/labels/WhatsApp-Image-2025-03-22-at-4_58_04-PM-1-_jpeg.rf.a3837cd5782bf2e4303fdc21d54182d8.txt  \n",
            "  inflating: /content/dataset/train/labels/WhatsApp-Image-2025-03-22-at-4_58_04-PM-1-_jpeg.rf.fc8d0b234efeb43f7323c379eeb33519.txt  \n",
            "  inflating: /content/dataset/train/labels/WhatsApp-Image-2025-03-24-at-5_14_08-AM-1-_jpeg.rf.25b8d69f3e7fab6f2cb469e17b58b1f8.txt  \n",
            "  inflating: /content/dataset/train/labels/WhatsApp-Image-2025-03-24-at-5_14_08-AM-1-_jpeg.rf.35fdef0b07cd5cfc4e72dea324abda71.txt  \n",
            "  inflating: /content/dataset/train/labels/WhatsApp-Image-2025-03-24-at-5_14_08-AM-1-_jpeg.rf.84ace07c19e3faabea3804f2af48465c.txt  \n",
            "  inflating: /content/dataset/train/labels/WhatsApp-Image-2025-03-24-at-5_14_08-AM_jpeg.rf.746b8a96154173e5510bdfd8fe0bc35c.txt  \n",
            "  inflating: /content/dataset/train/labels/WhatsApp-Image-2025-03-24-at-5_14_08-AM_jpeg.rf.758f9865af1d3595ff88055403fb6db5.txt  \n",
            "  inflating: /content/dataset/train/labels/WhatsApp-Image-2025-03-24-at-5_14_08-AM_jpeg.rf.897ddfdc35622b888ebe553282d16f85.txt  \n",
            "  inflating: /content/dataset/train/labels/WhatsApp-Image-2025-03-24-at-5_14_09-AM-1-_jpeg.rf.0819d9cc48c86a9b1607b5c431bcae51.txt  \n",
            "  inflating: /content/dataset/train/labels/WhatsApp-Image-2025-03-24-at-5_14_09-AM-1-_jpeg.rf.6805baeb96b00b4674b6289ee5d305c8.txt  \n",
            "  inflating: /content/dataset/train/labels/WhatsApp-Image-2025-03-24-at-5_14_09-AM-1-_jpeg.rf.a1ab1d5584b65fa5bf893bc5da57f18e.txt  \n",
            "  inflating: /content/dataset/train/labels/WhatsApp-Image-2025-03-24-at-5_14_09-AM_jpeg.rf.1b45be3d3498961039b0eb4db9f7049d.txt  \n",
            "  inflating: /content/dataset/train/labels/WhatsApp-Image-2025-03-24-at-5_14_09-AM_jpeg.rf.631374bec64c7d3601840f9fb2cee12d.txt  \n",
            "  inflating: /content/dataset/train/labels/WhatsApp-Image-2025-03-24-at-5_14_09-AM_jpeg.rf.bed27a04b557449936fddb87b578a15c.txt  \n",
            "  inflating: /content/dataset/train/labels/WhatsApp-Image-2025-03-24-at-5_14_11-AM-1-_jpeg.rf.2ee2c0d2650795b6453fecebcda7a229.txt  \n",
            "  inflating: /content/dataset/train/labels/WhatsApp-Image-2025-03-24-at-5_14_11-AM-1-_jpeg.rf.6022751e7e173a337ffc151ce2a3c52a.txt  \n",
            "  inflating: /content/dataset/train/labels/WhatsApp-Image-2025-03-24-at-5_14_11-AM-1-_jpeg.rf.82fa9669bbfd7cb80dbfe628a5c5a910.txt  \n",
            "  inflating: /content/dataset/train/labels/WhatsApp-Image-2025-03-24-at-5_14_12-AM-1-_jpeg.rf.52b07a6a6000621680b48918ff79060c.txt  \n",
            "  inflating: /content/dataset/train/labels/WhatsApp-Image-2025-03-24-at-5_14_12-AM-1-_jpeg.rf.c3e7e8f609627cc8cf578b51f7038b58.txt  \n",
            "  inflating: /content/dataset/train/labels/WhatsApp-Image-2025-03-24-at-5_14_12-AM-1-_jpeg.rf.e41d54a4a8bc71f0a7d8bcc325c65bdb.txt  \n",
            "  inflating: /content/dataset/train/labels/WhatsApp-Image-2025-03-24-at-5_14_12-AM_jpeg.rf.3012cd30bd300905e605828357f7c132.txt  \n",
            "  inflating: /content/dataset/train/labels/WhatsApp-Image-2025-03-24-at-5_14_12-AM_jpeg.rf.80d640506e7e3525b45a35a7360c1d00.txt  \n",
            "  inflating: /content/dataset/train/labels/WhatsApp-Image-2025-03-24-at-5_14_12-AM_jpeg.rf.f4415f0234d760e525bd28db90307da1.txt  \n",
            "  inflating: /content/dataset/train/labels/WhatsApp-Image-2025-03-24-at-5_14_13-AM_jpeg.rf.4227f79e764532d532392a2278b3c477.txt  \n",
            "  inflating: /content/dataset/train/labels/WhatsApp-Image-2025-03-24-at-5_14_13-AM_jpeg.rf.58cb95de4adb02661485aed4c0856cad.txt  \n",
            "  inflating: /content/dataset/train/labels/WhatsApp-Image-2025-03-24-at-5_14_13-AM_jpeg.rf.ba8eaf3d6d2217dd94b27b33213caa39.txt  \n",
            "  inflating: /content/dataset/train/labels/WhatsApp-Image-2025-03-25-at-5_54_10-PM-1-_jpeg.rf.725483006cf2fddecaf0e4c932bcc293.txt  \n",
            "  inflating: /content/dataset/train/labels/WhatsApp-Image-2025-03-25-at-5_54_10-PM-1-_jpeg.rf.7eba8426d62cbb80b30a110ae787e616.txt  \n",
            "  inflating: /content/dataset/train/labels/WhatsApp-Image-2025-03-25-at-5_54_10-PM-1-_jpeg.rf.b725a0a6f8c1e1b63b4ab81e74b03c34.txt  \n",
            "  inflating: /content/dataset/train/labels/WhatsApp-Image-2025-03-25-at-5_54_11-PM-1-_jpeg.rf.237124cd4f7823747741ad82560ee88c.txt  \n",
            "  inflating: /content/dataset/train/labels/WhatsApp-Image-2025-03-25-at-5_54_11-PM-1-_jpeg.rf.6c8ddd50bc92b576ea275342539bcf80.txt  \n",
            "  inflating: /content/dataset/train/labels/WhatsApp-Image-2025-03-25-at-5_54_11-PM-1-_jpeg.rf.887467f4a84db3c363b3795a49021c63.txt  \n",
            "  inflating: /content/dataset/train/labels/WhatsApp-Image-2025-03-25-at-5_54_12-PM-2-_jpeg.rf.1e103bdfe8643c852e1511887e27917d.txt  \n",
            "  inflating: /content/dataset/train/labels/WhatsApp-Image-2025-03-25-at-5_54_12-PM-2-_jpeg.rf.2ea113d186a8958c791d8f33cc26f347.txt  \n",
            "  inflating: /content/dataset/train/labels/WhatsApp-Image-2025-03-25-at-5_54_12-PM-2-_jpeg.rf.429204b3328c552c4075cd2a60253c52.txt  \n",
            "  inflating: /content/dataset/train/labels/WhatsApp-Image-2025-03-25-at-5_54_12-PM_jpeg.rf.0478ffe96c1b6e06099111f215863fa0.txt  \n",
            "  inflating: /content/dataset/train/labels/WhatsApp-Image-2025-03-25-at-5_54_12-PM_jpeg.rf.d7dc62cf95676a545818a18144190c3f.txt  \n",
            "  inflating: /content/dataset/train/labels/WhatsApp-Image-2025-03-25-at-5_54_12-PM_jpeg.rf.d7ec6fcacfd07675a8eb11ffb8c22f9f.txt  \n",
            "  inflating: /content/dataset/train/labels/WhatsApp-Image-2025-03-25-at-5_56_49-PM_jpeg.rf.50a223eb5a2da409e306ec3b3303f61b.txt  \n",
            "  inflating: /content/dataset/train/labels/WhatsApp-Image-2025-03-25-at-5_56_49-PM_jpeg.rf.c0f96e27f4b0f271667ce2469c377042.txt  \n",
            "  inflating: /content/dataset/train/labels/WhatsApp-Image-2025-03-25-at-5_56_49-PM_jpeg.rf.d97e0aeb3c3d3e3a16df027df0d34a14.txt  \n",
            "  inflating: /content/dataset/train/labels/WhatsApp-Image-2025-03-25-at-5_56_52-PM-1-_jpeg.rf.39cb676d8391ae428652fa228cf69cac.txt  \n",
            "  inflating: /content/dataset/train/labels/WhatsApp-Image-2025-03-25-at-5_56_52-PM-1-_jpeg.rf.4f876e3efd8899c2cc6540d92b5e45a0.txt  \n",
            "  inflating: /content/dataset/train/labels/WhatsApp-Image-2025-03-25-at-5_56_52-PM-1-_jpeg.rf.929a1aa8475fcc8b10abe0d6bd622356.txt  \n",
            "  inflating: /content/dataset/train/labels/WhatsApp-Image-2025-03-25-at-5_56_52-PM_jpeg.rf.90ee77b3fb85c15ce46d251b2d9dadc5.txt  \n",
            "  inflating: /content/dataset/train/labels/WhatsApp-Image-2025-03-25-at-5_56_52-PM_jpeg.rf.a602c050a1353ef774254a3919ea6201.txt  \n",
            "  inflating: /content/dataset/train/labels/WhatsApp-Image-2025-03-25-at-5_56_52-PM_jpeg.rf.d1b5ab42a2f0e5e42f916b06087830c3.txt  \n",
            "  inflating: /content/dataset/train/labels/WhatsApp-Image-2025-03-25-at-5_56_54-PM-1-_jpeg.rf.b3e7ca190c8517b83f65150bfa2e2d5e.txt  \n",
            "  inflating: /content/dataset/train/labels/WhatsApp-Image-2025-03-25-at-5_56_54-PM-1-_jpeg.rf.e8ddd3d9fb9a3bc389e231471cb82e71.txt  \n",
            "  inflating: /content/dataset/train/labels/WhatsApp-Image-2025-03-25-at-5_56_54-PM-1-_jpeg.rf.f02db1816032453cf5ccd57cccf59383.txt  \n",
            "  inflating: /content/dataset/train/labels/WhatsApp-Image-2025-03-25-at-5_56_54-PM_jpeg.rf.492261776c5dcf5425acf3bffe047a98.txt  \n",
            "  inflating: /content/dataset/train/labels/WhatsApp-Image-2025-03-25-at-5_56_54-PM_jpeg.rf.5779a1e5639c3d6888ebd8b45c8aba9d.txt  \n",
            "  inflating: /content/dataset/train/labels/WhatsApp-Image-2025-03-25-at-5_56_54-PM_jpeg.rf.9076a779a8791d479e18bb8d7f7e0c59.txt  \n",
            "  inflating: /content/dataset/train/labels/WhatsApp-Image-2025-03-25-at-5_56_55-PM_jpeg.rf.76763d1eba12ebd845f5f78766c7bfe6.txt  \n",
            "  inflating: /content/dataset/train/labels/WhatsApp-Image-2025-03-25-at-5_56_55-PM_jpeg.rf.a5caee7ef1582688ada79d03b817870e.txt  \n",
            "  inflating: /content/dataset/train/labels/WhatsApp-Image-2025-03-25-at-5_56_55-PM_jpeg.rf.c32b72081bdeef6bbcedf14e677caa29.txt  \n",
            "  inflating: /content/dataset/train/labels/WhatsApp-Image-2025-03-25-at-6_01_25-PM-1-_jpeg.rf.898065f4fe7636020bd16c98d851432e.txt  \n",
            "  inflating: /content/dataset/train/labels/WhatsApp-Image-2025-03-25-at-6_01_25-PM-1-_jpeg.rf.a87d86109efdef3602c905eef7a8f45e.txt  \n",
            "  inflating: /content/dataset/train/labels/WhatsApp-Image-2025-03-25-at-6_01_25-PM-1-_jpeg.rf.d8bf8a12ffa9a8a5f522a8b755fb6b24.txt  \n",
            "  inflating: /content/dataset/train/labels/WhatsApp-Image-2025-03-25-at-6_01_25-PM_jpeg.rf.16e2d57df4a887beff3ab1a62b346548.txt  \n",
            "  inflating: /content/dataset/train/labels/WhatsApp-Image-2025-03-25-at-6_01_25-PM_jpeg.rf.f8023fb3ebb99802816bc2510070c324.txt  \n",
            "  inflating: /content/dataset/train/labels/WhatsApp-Image-2025-03-25-at-6_01_25-PM_jpeg.rf.fac71d14a8fadc42b88376a790c7d8e7.txt  \n",
            "  inflating: /content/dataset/train/labels/WhatsApp-Image-2025-03-26-at-3_08_11-PM-1-_jpeg.rf.08cda0da20d01599357c118537e76521.txt  \n",
            "  inflating: /content/dataset/train/labels/WhatsApp-Image-2025-03-26-at-3_08_11-PM-1-_jpeg.rf.56cd4f5056a772d9fe0ea07b9ae3be14.txt  \n",
            "  inflating: /content/dataset/train/labels/WhatsApp-Image-2025-03-26-at-3_08_11-PM-1-_jpeg.rf.bf397eed4a9ae956ccc9659116ff5e77.txt  \n",
            "  inflating: /content/dataset/train/labels/WhatsApp-Image-2025-03-26-at-3_08_11-PM_jpeg.rf.27db84851b8da3857ded2b4fe336bb51.txt  \n",
            "  inflating: /content/dataset/train/labels/WhatsApp-Image-2025-03-26-at-3_08_11-PM_jpeg.rf.33f20ae8a730a564ab4b68bd129d12f5.txt  \n",
            "  inflating: /content/dataset/train/labels/WhatsApp-Image-2025-03-26-at-3_08_11-PM_jpeg.rf.624020e3025153c79771bc1a7e9ab121.txt  \n",
            "  inflating: /content/dataset/train/labels/WhatsApp-Image-2025-03-26-at-3_08_12-PM_jpeg.rf.62b5025afc7b11634bd6381ffb98434a.txt  \n",
            "  inflating: /content/dataset/train/labels/WhatsApp-Image-2025-03-26-at-3_08_12-PM_jpeg.rf.95cd1424fb2eee97d55328960015f41b.txt  \n",
            "  inflating: /content/dataset/train/labels/WhatsApp-Image-2025-03-26-at-3_08_12-PM_jpeg.rf.f24df685d5b25e8dfa713c3c3f1f08b9.txt  \n",
            "  inflating: /content/dataset/train/labels/WhatsApp-Image-2025-03-29-at-5_16_11-AM_jpeg.rf.25fe0b20e38aa9d59d523f009e376ae8.txt  \n",
            "  inflating: /content/dataset/train/labels/WhatsApp-Image-2025-03-29-at-5_16_11-AM_jpeg.rf.46770455e23b6e1d856e0d6c4e47972b.txt  \n",
            "  inflating: /content/dataset/train/labels/WhatsApp-Image-2025-03-29-at-5_16_11-AM_jpeg.rf.83fe4b6555c816741f93b717a2fbba5b.txt  \n",
            "  inflating: /content/dataset/train/labels/WhatsApp-Image-2025-03-29-at-5_16_12-AM_jpeg.rf.0aefdb91f6d4c0e7da48134acf999f91.txt  \n",
            "  inflating: /content/dataset/train/labels/WhatsApp-Image-2025-03-29-at-5_16_12-AM_jpeg.rf.191407298ad6aa0278fd55cede0944ba.txt  \n",
            "  inflating: /content/dataset/train/labels/WhatsApp-Image-2025-03-29-at-5_16_12-AM_jpeg.rf.3076ac6e889254476895dd7c8919549f.txt  \n",
            "  inflating: /content/dataset/train/labels/WhatsApp-Image-2025-03-29-at-5_16_13-AM_jpeg.rf.138686c4c7719411634f52a9e46dcb54.txt  \n",
            "  inflating: /content/dataset/train/labels/WhatsApp-Image-2025-03-29-at-5_16_13-AM_jpeg.rf.e2dfa0b365cb31211dceff36a2dcdbaf.txt  \n",
            "  inflating: /content/dataset/train/labels/WhatsApp-Image-2025-03-29-at-5_16_13-AM_jpeg.rf.f283ad4ea848cb83861e21474f10ad49.txt  \n",
            "  inflating: /content/dataset/train/labels/WhatsApp-Image-2025-03-29-at-5_16_14-AM-1-_jpeg.rf.2febabd9f30adb3d9cd072b7c6633479.txt  \n",
            "  inflating: /content/dataset/train/labels/WhatsApp-Image-2025-03-29-at-5_16_14-AM-1-_jpeg.rf.7d30906cf96e529cb4acfd20295d409a.txt  \n",
            "  inflating: /content/dataset/train/labels/WhatsApp-Image-2025-03-29-at-5_16_14-AM-1-_jpeg.rf.9d3c6715a65e074d59c712939c5158ab.txt  \n",
            "  inflating: /content/dataset/train/labels/WhatsApp-Image-2025-03-29-at-5_16_14-AM_jpeg.rf.0b3aaedf485cc65342d6c4388ab845e4.txt  \n",
            "  inflating: /content/dataset/train/labels/WhatsApp-Image-2025-03-29-at-5_16_14-AM_jpeg.rf.0d0dcebdf9a3a22633eceac0c1681aab.txt  \n",
            "  inflating: /content/dataset/train/labels/WhatsApp-Image-2025-03-29-at-5_16_14-AM_jpeg.rf.e4c1be7e054407b7a08adb9c8a379447.txt  \n",
            "  inflating: /content/dataset/train/labels/WhatsApp-Image-2025-03-29-at-5_16_15-AM_jpeg.rf.15d18cd3adbbd6147f2199df922a2dfc.txt  \n",
            "  inflating: /content/dataset/train/labels/WhatsApp-Image-2025-03-29-at-5_16_15-AM_jpeg.rf.28514492c094c35f713cfd66966c6fbe.txt  \n",
            "  inflating: /content/dataset/train/labels/WhatsApp-Image-2025-03-29-at-5_16_15-AM_jpeg.rf.c75551fb7c2e3b912a26f210b38afa43.txt  \n",
            "  inflating: /content/dataset/train/labels/WhatsApp-Image-2025-03-29-at-5_16_16-AM_jpeg.rf.319cbcf7572467c9368387bba8f0f9fd.txt  \n",
            "  inflating: /content/dataset/train/labels/WhatsApp-Image-2025-03-29-at-5_16_16-AM_jpeg.rf.84b67ccee05ea081e04bc93a9f836457.txt  \n",
            "  inflating: /content/dataset/train/labels/WhatsApp-Image-2025-03-29-at-5_16_16-AM_jpeg.rf.a35b211858ba216a9765d558c1701afb.txt  \n",
            "  inflating: /content/dataset/train/labels/WhatsApp-Image-2025-03-29-at-5_16_17-AM_jpeg.rf.0bfc041d28a145d959edc4ba06f80cc8.txt  \n",
            "  inflating: /content/dataset/train/labels/WhatsApp-Image-2025-03-29-at-5_16_17-AM_jpeg.rf.87aeb8e51251a94cfc81105498aab96d.txt  \n",
            "  inflating: /content/dataset/train/labels/WhatsApp-Image-2025-03-29-at-5_16_17-AM_jpeg.rf.f5bcdc21789df99ee13fc0d0c9b5f58b.txt  \n",
            "  inflating: /content/dataset/train/labels/WhatsApp-Image-2025-03-29-at-5_16_18-AM_jpeg.rf.6936d62d9c5f7d7bc018de6d059a8b75.txt  \n",
            "  inflating: /content/dataset/train/labels/WhatsApp-Image-2025-03-29-at-5_16_18-AM_jpeg.rf.bac2e233abef5235f46c71fbafd2cd8f.txt  \n",
            "  inflating: /content/dataset/train/labels/WhatsApp-Image-2025-03-29-at-5_16_18-AM_jpeg.rf.dd4d9338f8a55bccfb16e4b725f18202.txt  \n",
            "  inflating: /content/dataset/train/labels/WhatsApp-Image-2025-03-29-at-5_16_19-AM_jpeg.rf.1312fa36af1a045cc2db45804d99cd90.txt  \n",
            "  inflating: /content/dataset/train/labels/WhatsApp-Image-2025-03-29-at-5_16_19-AM_jpeg.rf.67fab8cdce0a010bd88cc5f389f0839c.txt  \n",
            "  inflating: /content/dataset/train/labels/WhatsApp-Image-2025-03-29-at-5_16_19-AM_jpeg.rf.bfc0ff025c3cdb4959394b21a4199141.txt  \n",
            "  inflating: /content/dataset/train/labels/WhatsApp-Image-2025-03-30-at-2_16_12-AM_jpeg.rf.3d9023b4c5ddd3f202352191efbe5c84.txt  \n",
            "  inflating: /content/dataset/train/labels/WhatsApp-Image-2025-03-30-at-2_16_12-AM_jpeg.rf.ae95e03a9f7da5b49d152798f1f017cb.txt  \n",
            "  inflating: /content/dataset/train/labels/WhatsApp-Image-2025-03-30-at-2_16_12-AM_jpeg.rf.ba87062983765f552dc74ba54ee53324.txt  \n",
            "  inflating: /content/dataset/train/labels/WhatsApp-Image-2025-03-30-at-2_16_13-AM_jpeg.rf.0aba8a2b43d8377c62013760215018a3.txt  \n",
            "  inflating: /content/dataset/train/labels/WhatsApp-Image-2025-03-30-at-2_16_13-AM_jpeg.rf.373e7814ad7c902735d2cdea5bf82062.txt  \n",
            "  inflating: /content/dataset/train/labels/WhatsApp-Image-2025-03-30-at-2_16_13-AM_jpeg.rf.85e730839d1bd5c3cf5bb9df8228f37c.txt  \n",
            "   creating: /content/dataset/valid/\n",
            "   creating: /content/dataset/valid/images/\n",
            " extracting: /content/dataset/valid/images/WhatsApp-Image-2025-03-19-at-5_13_13-PM_jpeg.rf.c47a0173bebfdb733297e2cf1e4eaf18.jpg  \n",
            " extracting: /content/dataset/valid/images/WhatsApp-Image-2025-03-19-at-5_13_15-PM-1-_jpeg.rf.4520c07432daaa176d84c811e381cf27.jpg  \n",
            " extracting: /content/dataset/valid/images/WhatsApp-Image-2025-03-19-at-5_13_15-PM_jpeg.rf.7b7d8235350bd2be315d73f6e6191d03.jpg  \n",
            " extracting: /content/dataset/valid/images/WhatsApp-Image-2025-03-19-at-5_37_58-PM-1-_jpeg.rf.5093a9e3f5b7745f3ec3328046e1f94c.jpg  \n",
            " extracting: /content/dataset/valid/images/WhatsApp-Image-2025-03-19-at-5_38_00-PM_jpeg.rf.20a9e33baacbee3333fcd88ebfd6ff5e.jpg  \n",
            " extracting: /content/dataset/valid/images/WhatsApp-Image-2025-03-20-at-5_05_12-PM_jpeg.rf.3db238e5e6d069f37835bcb047d61c5f.jpg  \n",
            " extracting: /content/dataset/valid/images/WhatsApp-Image-2025-03-22-at-4_58_04-PM_jpeg.rf.c7a6d9846685993ee57ab3f54482e6ba.jpg  \n",
            " extracting: /content/dataset/valid/images/WhatsApp-Image-2025-03-24-at-5_14_10-AM_jpeg.rf.a53fe12fdcf8ca3588007363bb966b7c.jpg  \n",
            " extracting: /content/dataset/valid/images/WhatsApp-Image-2025-03-25-at-5_54_09-PM_jpeg.rf.e996ddcd805cbe3ed635507d75656ec6.jpg  \n",
            " extracting: /content/dataset/valid/images/WhatsApp-Image-2025-03-25-at-5_54_12-PM-1-_jpeg.rf.e0cc850cbb8cd3495806ba9125416749.jpg  \n",
            " extracting: /content/dataset/valid/images/WhatsApp-Image-2025-03-25-at-5_56_50-PM_jpeg.rf.77c9e4017824e3b1fc1f72fd00af6159.jpg  \n",
            " extracting: /content/dataset/valid/images/WhatsApp-Image-2025-03-25-at-5_56_53-PM_jpeg.rf.c78709b3bb51f720715c7115f7c1dd3e.jpg  \n",
            " extracting: /content/dataset/valid/images/WhatsApp-Image-2025-03-26-at-3_08_12-PM-1-_jpeg.rf.3a10360052d6eb52c83ae173eff75b91.jpg  \n",
            " extracting: /content/dataset/valid/images/WhatsApp-Image-2025-03-29-at-5_16_20-AM_jpeg.rf.e3fd1fbff67d3c5c8a5fe2bf39db065a.jpg  \n",
            " extracting: /content/dataset/valid/images/WhatsApp-Image-2025-03-30-at-2_16_13-AM-1-_jpeg.rf.a39125e00debe609a2b66722d9b90a27.jpg  \n",
            "   creating: /content/dataset/valid/labels/\n",
            "  inflating: /content/dataset/valid/labels/WhatsApp-Image-2025-03-19-at-5_13_13-PM_jpeg.rf.c47a0173bebfdb733297e2cf1e4eaf18.txt  \n",
            "  inflating: /content/dataset/valid/labels/WhatsApp-Image-2025-03-19-at-5_13_15-PM-1-_jpeg.rf.4520c07432daaa176d84c811e381cf27.txt  \n",
            "  inflating: /content/dataset/valid/labels/WhatsApp-Image-2025-03-19-at-5_13_15-PM_jpeg.rf.7b7d8235350bd2be315d73f6e6191d03.txt  \n",
            "  inflating: /content/dataset/valid/labels/WhatsApp-Image-2025-03-19-at-5_37_58-PM-1-_jpeg.rf.5093a9e3f5b7745f3ec3328046e1f94c.txt  \n",
            "  inflating: /content/dataset/valid/labels/WhatsApp-Image-2025-03-19-at-5_38_00-PM_jpeg.rf.20a9e33baacbee3333fcd88ebfd6ff5e.txt  \n",
            "  inflating: /content/dataset/valid/labels/WhatsApp-Image-2025-03-20-at-5_05_12-PM_jpeg.rf.3db238e5e6d069f37835bcb047d61c5f.txt  \n",
            "  inflating: /content/dataset/valid/labels/WhatsApp-Image-2025-03-22-at-4_58_04-PM_jpeg.rf.c7a6d9846685993ee57ab3f54482e6ba.txt  \n",
            "  inflating: /content/dataset/valid/labels/WhatsApp-Image-2025-03-24-at-5_14_10-AM_jpeg.rf.a53fe12fdcf8ca3588007363bb966b7c.txt  \n",
            "  inflating: /content/dataset/valid/labels/WhatsApp-Image-2025-03-25-at-5_54_09-PM_jpeg.rf.e996ddcd805cbe3ed635507d75656ec6.txt  \n",
            "  inflating: /content/dataset/valid/labels/WhatsApp-Image-2025-03-25-at-5_54_12-PM-1-_jpeg.rf.e0cc850cbb8cd3495806ba9125416749.txt  \n",
            "  inflating: /content/dataset/valid/labels/WhatsApp-Image-2025-03-25-at-5_56_50-PM_jpeg.rf.77c9e4017824e3b1fc1f72fd00af6159.txt  \n",
            "  inflating: /content/dataset/valid/labels/WhatsApp-Image-2025-03-25-at-5_56_53-PM_jpeg.rf.c78709b3bb51f720715c7115f7c1dd3e.txt  \n",
            "  inflating: /content/dataset/valid/labels/WhatsApp-Image-2025-03-26-at-3_08_12-PM-1-_jpeg.rf.3a10360052d6eb52c83ae173eff75b91.txt  \n",
            "  inflating: /content/dataset/valid/labels/WhatsApp-Image-2025-03-29-at-5_16_20-AM_jpeg.rf.e3fd1fbff67d3c5c8a5fe2bf39db065a.txt  \n",
            "  inflating: /content/dataset/valid/labels/WhatsApp-Image-2025-03-30-at-2_16_13-AM-1-_jpeg.rf.a39125e00debe609a2b66722d9b90a27.txt  \n"
          ]
        }
      ],
      "source": [
        "!unzip data.zip -d  /content/dataset\n"
      ]
    },
    {
      "cell_type": "code",
      "source": [
        "\n",
        "!pip install ultralytics\n"
      ],
      "metadata": {
        "colab": {
          "base_uri": "https://localhost:8080/"
        },
        "id": "x-ZKa1mmtK4C",
        "outputId": "d121685d-c473-47cc-81a4-e188f3e9bd28"
      },
      "execution_count": null,
      "outputs": [
        {
          "output_type": "stream",
          "name": "stdout",
          "text": [
            "Requirement already satisfied: ultralytics in /usr/local/lib/python3.11/dist-packages (8.3.105)\n",
            "Requirement already satisfied: numpy<=2.1.1,>=1.23.0 in /usr/local/lib/python3.11/dist-packages (from ultralytics) (2.0.2)\n",
            "Requirement already satisfied: matplotlib>=3.3.0 in /usr/local/lib/python3.11/dist-packages (from ultralytics) (3.10.0)\n",
            "Requirement already satisfied: opencv-python>=4.6.0 in /usr/local/lib/python3.11/dist-packages (from ultralytics) (4.11.0.86)\n",
            "Requirement already satisfied: pillow>=7.1.2 in /usr/local/lib/python3.11/dist-packages (from ultralytics) (11.1.0)\n",
            "Requirement already satisfied: pyyaml>=5.3.1 in /usr/local/lib/python3.11/dist-packages (from ultralytics) (6.0.2)\n",
            "Requirement already satisfied: requests>=2.23.0 in /usr/local/lib/python3.11/dist-packages (from ultralytics) (2.32.3)\n",
            "Requirement already satisfied: scipy>=1.4.1 in /usr/local/lib/python3.11/dist-packages (from ultralytics) (1.14.1)\n",
            "Requirement already satisfied: torch>=1.8.0 in /usr/local/lib/python3.11/dist-packages (from ultralytics) (2.6.0+cu124)\n",
            "Requirement already satisfied: torchvision>=0.9.0 in /usr/local/lib/python3.11/dist-packages (from ultralytics) (0.21.0+cu124)\n",
            "Requirement already satisfied: tqdm>=4.64.0 in /usr/local/lib/python3.11/dist-packages (from ultralytics) (4.67.1)\n",
            "Requirement already satisfied: psutil in /usr/local/lib/python3.11/dist-packages (from ultralytics) (5.9.5)\n",
            "Requirement already satisfied: py-cpuinfo in /usr/local/lib/python3.11/dist-packages (from ultralytics) (9.0.0)\n",
            "Requirement already satisfied: pandas>=1.1.4 in /usr/local/lib/python3.11/dist-packages (from ultralytics) (2.2.2)\n",
            "Requirement already satisfied: seaborn>=0.11.0 in /usr/local/lib/python3.11/dist-packages (from ultralytics) (0.13.2)\n",
            "Requirement already satisfied: ultralytics-thop>=2.0.0 in /usr/local/lib/python3.11/dist-packages (from ultralytics) (2.0.14)\n",
            "Requirement already satisfied: contourpy>=1.0.1 in /usr/local/lib/python3.11/dist-packages (from matplotlib>=3.3.0->ultralytics) (1.3.1)\n",
            "Requirement already satisfied: cycler>=0.10 in /usr/local/lib/python3.11/dist-packages (from matplotlib>=3.3.0->ultralytics) (0.12.1)\n",
            "Requirement already satisfied: fonttools>=4.22.0 in /usr/local/lib/python3.11/dist-packages (from matplotlib>=3.3.0->ultralytics) (4.57.0)\n",
            "Requirement already satisfied: kiwisolver>=1.3.1 in /usr/local/lib/python3.11/dist-packages (from matplotlib>=3.3.0->ultralytics) (1.4.8)\n",
            "Requirement already satisfied: packaging>=20.0 in /usr/local/lib/python3.11/dist-packages (from matplotlib>=3.3.0->ultralytics) (24.2)\n",
            "Requirement already satisfied: pyparsing>=2.3.1 in /usr/local/lib/python3.11/dist-packages (from matplotlib>=3.3.0->ultralytics) (3.2.3)\n",
            "Requirement already satisfied: python-dateutil>=2.7 in /usr/local/lib/python3.11/dist-packages (from matplotlib>=3.3.0->ultralytics) (2.8.2)\n",
            "Requirement already satisfied: pytz>=2020.1 in /usr/local/lib/python3.11/dist-packages (from pandas>=1.1.4->ultralytics) (2025.2)\n",
            "Requirement already satisfied: tzdata>=2022.7 in /usr/local/lib/python3.11/dist-packages (from pandas>=1.1.4->ultralytics) (2025.2)\n",
            "Requirement already satisfied: charset-normalizer<4,>=2 in /usr/local/lib/python3.11/dist-packages (from requests>=2.23.0->ultralytics) (3.4.1)\n",
            "Requirement already satisfied: idna<4,>=2.5 in /usr/local/lib/python3.11/dist-packages (from requests>=2.23.0->ultralytics) (3.10)\n",
            "Requirement already satisfied: urllib3<3,>=1.21.1 in /usr/local/lib/python3.11/dist-packages (from requests>=2.23.0->ultralytics) (2.3.0)\n",
            "Requirement already satisfied: certifi>=2017.4.17 in /usr/local/lib/python3.11/dist-packages (from requests>=2.23.0->ultralytics) (2025.1.31)\n",
            "Requirement already satisfied: filelock in /usr/local/lib/python3.11/dist-packages (from torch>=1.8.0->ultralytics) (3.18.0)\n",
            "Requirement already satisfied: typing-extensions>=4.10.0 in /usr/local/lib/python3.11/dist-packages (from torch>=1.8.0->ultralytics) (4.13.1)\n",
            "Requirement already satisfied: networkx in /usr/local/lib/python3.11/dist-packages (from torch>=1.8.0->ultralytics) (3.4.2)\n",
            "Requirement already satisfied: jinja2 in /usr/local/lib/python3.11/dist-packages (from torch>=1.8.0->ultralytics) (3.1.6)\n",
            "Requirement already satisfied: fsspec in /usr/local/lib/python3.11/dist-packages (from torch>=1.8.0->ultralytics) (2025.3.2)\n",
            "Requirement already satisfied: nvidia-cuda-nvrtc-cu12==12.4.127 in /usr/local/lib/python3.11/dist-packages (from torch>=1.8.0->ultralytics) (12.4.127)\n",
            "Requirement already satisfied: nvidia-cuda-runtime-cu12==12.4.127 in /usr/local/lib/python3.11/dist-packages (from torch>=1.8.0->ultralytics) (12.4.127)\n",
            "Requirement already satisfied: nvidia-cuda-cupti-cu12==12.4.127 in /usr/local/lib/python3.11/dist-packages (from torch>=1.8.0->ultralytics) (12.4.127)\n",
            "Requirement already satisfied: nvidia-cudnn-cu12==9.1.0.70 in /usr/local/lib/python3.11/dist-packages (from torch>=1.8.0->ultralytics) (9.1.0.70)\n",
            "Requirement already satisfied: nvidia-cublas-cu12==12.4.5.8 in /usr/local/lib/python3.11/dist-packages (from torch>=1.8.0->ultralytics) (12.4.5.8)\n",
            "Requirement already satisfied: nvidia-cufft-cu12==11.2.1.3 in /usr/local/lib/python3.11/dist-packages (from torch>=1.8.0->ultralytics) (11.2.1.3)\n",
            "Requirement already satisfied: nvidia-curand-cu12==10.3.5.147 in /usr/local/lib/python3.11/dist-packages (from torch>=1.8.0->ultralytics) (10.3.5.147)\n",
            "Requirement already satisfied: nvidia-cusolver-cu12==11.6.1.9 in /usr/local/lib/python3.11/dist-packages (from torch>=1.8.0->ultralytics) (11.6.1.9)\n",
            "Requirement already satisfied: nvidia-cusparse-cu12==12.3.1.170 in /usr/local/lib/python3.11/dist-packages (from torch>=1.8.0->ultralytics) (12.3.1.170)\n",
            "Requirement already satisfied: nvidia-cusparselt-cu12==0.6.2 in /usr/local/lib/python3.11/dist-packages (from torch>=1.8.0->ultralytics) (0.6.2)\n",
            "Requirement already satisfied: nvidia-nccl-cu12==2.21.5 in /usr/local/lib/python3.11/dist-packages (from torch>=1.8.0->ultralytics) (2.21.5)\n",
            "Requirement already satisfied: nvidia-nvtx-cu12==12.4.127 in /usr/local/lib/python3.11/dist-packages (from torch>=1.8.0->ultralytics) (12.4.127)\n",
            "Requirement already satisfied: nvidia-nvjitlink-cu12==12.4.127 in /usr/local/lib/python3.11/dist-packages (from torch>=1.8.0->ultralytics) (12.4.127)\n",
            "Requirement already satisfied: triton==3.2.0 in /usr/local/lib/python3.11/dist-packages (from torch>=1.8.0->ultralytics) (3.2.0)\n",
            "Requirement already satisfied: sympy==1.13.1 in /usr/local/lib/python3.11/dist-packages (from torch>=1.8.0->ultralytics) (1.13.1)\n",
            "Requirement already satisfied: mpmath<1.4,>=1.1.0 in /usr/local/lib/python3.11/dist-packages (from sympy==1.13.1->torch>=1.8.0->ultralytics) (1.3.0)\n",
            "Requirement already satisfied: six>=1.5 in /usr/local/lib/python3.11/dist-packages (from python-dateutil>=2.7->matplotlib>=3.3.0->ultralytics) (1.17.0)\n",
            "Requirement already satisfied: MarkupSafe>=2.0 in /usr/local/lib/python3.11/dist-packages (from jinja2->torch>=1.8.0->ultralytics) (3.0.2)\n"
          ]
        }
      ]
    },
    {
      "cell_type": "code",
      "source": [
        "from ultralytics import YOLO\n",
        "\n",
        "model = YOLO(\"yolov8s.pt\")  # أو \"yolov8m.pt\" حسب جهازك\n",
        "\n",
        "model.train(\n",
        "    data=\"/content/dataset/data.yaml\",\n",
        "    epochs=15,\n",
        "    imgsz=960,\n",
        "    batch=16,\n",
        "    name=\"yolo8-offside-detection\",\n",
        "    workers=4,\n",
        "    device=\"CPU\",       # استخدم GPU\n",
        "    patience=15     # لإيقاف التدريب المبكر إذا توقف التحسن\n",
        ")\n"
      ],
      "metadata": {
        "colab": {
          "base_uri": "https://localhost:8080/",
          "height": 428
        },
        "id": "xmqkAMXvFANX",
        "outputId": "dd37d7ec-0b41-4f1b-b1b8-d146c6192604"
      },
      "execution_count": null,
      "outputs": [
        {
          "output_type": "stream",
          "name": "stdout",
          "text": [
            "Creating new Ultralytics Settings v0.0.6 file ✅ \n",
            "View Ultralytics Settings with 'yolo settings' or at '/root/.config/Ultralytics/settings.json'\n",
            "Update Settings with 'yolo settings key=value', i.e. 'yolo settings runs_dir=path/to/dir'. For help see https://docs.ultralytics.com/quickstart/#ultralytics-settings.\n"
          ]
        },
        {
          "output_type": "error",
          "ename": "KeyboardInterrupt",
          "evalue": "",
          "traceback": [
            "\u001b[0;31m---------------------------------------------------------------------------\u001b[0m",
            "\u001b[0;31mKeyboardInterrupt\u001b[0m                         Traceback (most recent call last)",
            "\u001b[0;32m<ipython-input-2-54b2cbb808a1>\u001b[0m in \u001b[0;36m<cell line: 0>\u001b[0;34m()\u001b[0m\n\u001b[0;32m----> 1\u001b[0;31m \u001b[0;32mfrom\u001b[0m \u001b[0multralytics\u001b[0m \u001b[0;32mimport\u001b[0m \u001b[0mYOLO\u001b[0m\u001b[0;34m\u001b[0m\u001b[0;34m\u001b[0m\u001b[0m\n\u001b[0m\u001b[1;32m      2\u001b[0m \u001b[0;34m\u001b[0m\u001b[0m\n\u001b[1;32m      3\u001b[0m \u001b[0mmodel\u001b[0m \u001b[0;34m=\u001b[0m \u001b[0mYOLO\u001b[0m\u001b[0;34m(\u001b[0m\u001b[0;34m\"yolov8s.pt\"\u001b[0m\u001b[0;34m)\u001b[0m  \u001b[0;31m# أو \"yolov8m.pt\" حسب جهازك\u001b[0m\u001b[0;34m\u001b[0m\u001b[0;34m\u001b[0m\u001b[0m\n\u001b[1;32m      4\u001b[0m \u001b[0;34m\u001b[0m\u001b[0m\n\u001b[1;32m      5\u001b[0m model.train(\n",
            "\u001b[0;32m/usr/local/lib/python3.11/dist-packages/ultralytics/__init__.py\u001b[0m in \u001b[0;36m<module>\u001b[0;34m\u001b[0m\n\u001b[1;32m      9\u001b[0m     \u001b[0mos\u001b[0m\u001b[0;34m.\u001b[0m\u001b[0menviron\u001b[0m\u001b[0;34m[\u001b[0m\u001b[0;34m\"OMP_NUM_THREADS\"\u001b[0m\u001b[0;34m]\u001b[0m \u001b[0;34m=\u001b[0m \u001b[0;34m\"1\"\u001b[0m  \u001b[0;31m# default for reduced CPU utilization during training\u001b[0m\u001b[0;34m\u001b[0m\u001b[0;34m\u001b[0m\u001b[0m\n\u001b[1;32m     10\u001b[0m \u001b[0;34m\u001b[0m\u001b[0m\n\u001b[0;32m---> 11\u001b[0;31m \u001b[0;32mfrom\u001b[0m \u001b[0multralytics\u001b[0m\u001b[0;34m.\u001b[0m\u001b[0mmodels\u001b[0m \u001b[0;32mimport\u001b[0m \u001b[0mNAS\u001b[0m\u001b[0;34m,\u001b[0m \u001b[0mRTDETR\u001b[0m\u001b[0;34m,\u001b[0m \u001b[0mSAM\u001b[0m\u001b[0;34m,\u001b[0m \u001b[0mYOLO\u001b[0m\u001b[0;34m,\u001b[0m \u001b[0mYOLOE\u001b[0m\u001b[0;34m,\u001b[0m \u001b[0mFastSAM\u001b[0m\u001b[0;34m,\u001b[0m \u001b[0mYOLOWorld\u001b[0m\u001b[0;34m\u001b[0m\u001b[0;34m\u001b[0m\u001b[0m\n\u001b[0m\u001b[1;32m     12\u001b[0m \u001b[0;32mfrom\u001b[0m \u001b[0multralytics\u001b[0m\u001b[0;34m.\u001b[0m\u001b[0mutils\u001b[0m \u001b[0;32mimport\u001b[0m \u001b[0mASSETS\u001b[0m\u001b[0;34m,\u001b[0m \u001b[0mSETTINGS\u001b[0m\u001b[0;34m\u001b[0m\u001b[0;34m\u001b[0m\u001b[0m\n\u001b[1;32m     13\u001b[0m \u001b[0;32mfrom\u001b[0m \u001b[0multralytics\u001b[0m\u001b[0;34m.\u001b[0m\u001b[0mutils\u001b[0m\u001b[0;34m.\u001b[0m\u001b[0mchecks\u001b[0m \u001b[0;32mimport\u001b[0m \u001b[0mcheck_yolo\u001b[0m \u001b[0;32mas\u001b[0m \u001b[0mchecks\u001b[0m\u001b[0;34m\u001b[0m\u001b[0;34m\u001b[0m\u001b[0m\n",
            "\u001b[0;32m/usr/local/lib/python3.11/dist-packages/ultralytics/models/__init__.py\u001b[0m in \u001b[0;36m<module>\u001b[0;34m\u001b[0m\n\u001b[1;32m      4\u001b[0m \u001b[0;32mfrom\u001b[0m \u001b[0;34m.\u001b[0m\u001b[0mnas\u001b[0m \u001b[0;32mimport\u001b[0m \u001b[0mNAS\u001b[0m\u001b[0;34m\u001b[0m\u001b[0;34m\u001b[0m\u001b[0m\n\u001b[1;32m      5\u001b[0m \u001b[0;32mfrom\u001b[0m \u001b[0;34m.\u001b[0m\u001b[0mrtdetr\u001b[0m \u001b[0;32mimport\u001b[0m \u001b[0mRTDETR\u001b[0m\u001b[0;34m\u001b[0m\u001b[0;34m\u001b[0m\u001b[0m\n\u001b[0;32m----> 6\u001b[0;31m \u001b[0;32mfrom\u001b[0m \u001b[0;34m.\u001b[0m\u001b[0msam\u001b[0m \u001b[0;32mimport\u001b[0m \u001b[0mSAM\u001b[0m\u001b[0;34m\u001b[0m\u001b[0;34m\u001b[0m\u001b[0m\n\u001b[0m\u001b[1;32m      7\u001b[0m \u001b[0;32mfrom\u001b[0m \u001b[0;34m.\u001b[0m\u001b[0myolo\u001b[0m \u001b[0;32mimport\u001b[0m \u001b[0mYOLO\u001b[0m\u001b[0;34m,\u001b[0m \u001b[0mYOLOE\u001b[0m\u001b[0;34m,\u001b[0m \u001b[0mYOLOWorld\u001b[0m\u001b[0;34m\u001b[0m\u001b[0;34m\u001b[0m\u001b[0m\n\u001b[1;32m      8\u001b[0m \u001b[0;34m\u001b[0m\u001b[0m\n",
            "\u001b[0;32m/usr/local/lib/python3.11/dist-packages/ultralytics/models/sam/__init__.py\u001b[0m in \u001b[0;36m<module>\u001b[0;34m\u001b[0m\n\u001b[1;32m      1\u001b[0m \u001b[0;31m# Ultralytics 🚀 AGPL-3.0 License - https://ultralytics.com/license\u001b[0m\u001b[0;34m\u001b[0m\u001b[0;34m\u001b[0m\u001b[0m\n\u001b[1;32m      2\u001b[0m \u001b[0;34m\u001b[0m\u001b[0m\n\u001b[0;32m----> 3\u001b[0;31m \u001b[0;32mfrom\u001b[0m \u001b[0;34m.\u001b[0m\u001b[0mmodel\u001b[0m \u001b[0;32mimport\u001b[0m \u001b[0mSAM\u001b[0m\u001b[0;34m\u001b[0m\u001b[0;34m\u001b[0m\u001b[0m\n\u001b[0m\u001b[1;32m      4\u001b[0m \u001b[0;32mfrom\u001b[0m \u001b[0;34m.\u001b[0m\u001b[0mpredict\u001b[0m \u001b[0;32mimport\u001b[0m \u001b[0mPredictor\u001b[0m\u001b[0;34m,\u001b[0m \u001b[0mSAM2Predictor\u001b[0m\u001b[0;34m,\u001b[0m \u001b[0mSAM2VideoPredictor\u001b[0m\u001b[0;34m\u001b[0m\u001b[0;34m\u001b[0m\u001b[0m\n\u001b[1;32m      5\u001b[0m \u001b[0;34m\u001b[0m\u001b[0m\n",
            "\u001b[0;32m/usr/local/lib/python3.11/dist-packages/ultralytics/models/sam/model.py\u001b[0m in \u001b[0;36m<module>\u001b[0;34m\u001b[0m\n\u001b[1;32m     20\u001b[0m \u001b[0;32mfrom\u001b[0m \u001b[0multralytics\u001b[0m\u001b[0;34m.\u001b[0m\u001b[0mutils\u001b[0m\u001b[0;34m.\u001b[0m\u001b[0mtorch_utils\u001b[0m \u001b[0;32mimport\u001b[0m \u001b[0mmodel_info\u001b[0m\u001b[0;34m\u001b[0m\u001b[0;34m\u001b[0m\u001b[0m\n\u001b[1;32m     21\u001b[0m \u001b[0;34m\u001b[0m\u001b[0m\n\u001b[0;32m---> 22\u001b[0;31m \u001b[0;32mfrom\u001b[0m \u001b[0;34m.\u001b[0m\u001b[0mbuild\u001b[0m \u001b[0;32mimport\u001b[0m \u001b[0mbuild_sam\u001b[0m\u001b[0;34m\u001b[0m\u001b[0;34m\u001b[0m\u001b[0m\n\u001b[0m\u001b[1;32m     23\u001b[0m \u001b[0;32mfrom\u001b[0m \u001b[0;34m.\u001b[0m\u001b[0mpredict\u001b[0m \u001b[0;32mimport\u001b[0m \u001b[0mPredictor\u001b[0m\u001b[0;34m,\u001b[0m \u001b[0mSAM2Predictor\u001b[0m\u001b[0;34m\u001b[0m\u001b[0;34m\u001b[0m\u001b[0m\n\u001b[1;32m     24\u001b[0m \u001b[0;34m\u001b[0m\u001b[0m\n",
            "\u001b[0;32m/usr/local/lib/python3.11/dist-packages/ultralytics/models/sam/build.py\u001b[0m in \u001b[0;36m<module>\u001b[0;34m\u001b[0m\n\u001b[1;32m     17\u001b[0m \u001b[0;32mfrom\u001b[0m \u001b[0;34m.\u001b[0m\u001b[0mmodules\u001b[0m\u001b[0;34m.\u001b[0m\u001b[0mmemory_attention\u001b[0m \u001b[0;32mimport\u001b[0m \u001b[0mMemoryAttention\u001b[0m\u001b[0;34m,\u001b[0m \u001b[0mMemoryAttentionLayer\u001b[0m\u001b[0;34m\u001b[0m\u001b[0;34m\u001b[0m\u001b[0m\n\u001b[1;32m     18\u001b[0m \u001b[0;32mfrom\u001b[0m \u001b[0;34m.\u001b[0m\u001b[0mmodules\u001b[0m\u001b[0;34m.\u001b[0m\u001b[0msam\u001b[0m \u001b[0;32mimport\u001b[0m \u001b[0mSAM2Model\u001b[0m\u001b[0;34m,\u001b[0m \u001b[0mSAMModel\u001b[0m\u001b[0;34m\u001b[0m\u001b[0;34m\u001b[0m\u001b[0m\n\u001b[0;32m---> 19\u001b[0;31m \u001b[0;32mfrom\u001b[0m \u001b[0;34m.\u001b[0m\u001b[0mmodules\u001b[0m\u001b[0;34m.\u001b[0m\u001b[0mtiny_encoder\u001b[0m \u001b[0;32mimport\u001b[0m \u001b[0mTinyViT\u001b[0m\u001b[0;34m\u001b[0m\u001b[0;34m\u001b[0m\u001b[0m\n\u001b[0m\u001b[1;32m     20\u001b[0m \u001b[0;32mfrom\u001b[0m \u001b[0;34m.\u001b[0m\u001b[0mmodules\u001b[0m\u001b[0;34m.\u001b[0m\u001b[0mtransformer\u001b[0m \u001b[0;32mimport\u001b[0m \u001b[0mTwoWayTransformer\u001b[0m\u001b[0;34m\u001b[0m\u001b[0;34m\u001b[0m\u001b[0m\n\u001b[1;32m     21\u001b[0m \u001b[0;34m\u001b[0m\u001b[0m\n",
            "\u001b[0;32m/usr/local/lib/python3.11/dist-packages/ultralytics/models/sam/modules/tiny_encoder.py\u001b[0m in \u001b[0;36m<module>\u001b[0;34m\u001b[0m\n\u001b[1;32m     16\u001b[0m \u001b[0;32mimport\u001b[0m \u001b[0mtorch\u001b[0m\u001b[0;34m.\u001b[0m\u001b[0mnn\u001b[0m \u001b[0;32mas\u001b[0m \u001b[0mnn\u001b[0m\u001b[0;34m\u001b[0m\u001b[0;34m\u001b[0m\u001b[0m\n\u001b[1;32m     17\u001b[0m \u001b[0;32mimport\u001b[0m \u001b[0mtorch\u001b[0m\u001b[0;34m.\u001b[0m\u001b[0mnn\u001b[0m\u001b[0;34m.\u001b[0m\u001b[0mfunctional\u001b[0m \u001b[0;32mas\u001b[0m \u001b[0mF\u001b[0m\u001b[0;34m\u001b[0m\u001b[0;34m\u001b[0m\u001b[0m\n\u001b[0;32m---> 18\u001b[0;31m \u001b[0;32mimport\u001b[0m \u001b[0mtorch\u001b[0m\u001b[0;34m.\u001b[0m\u001b[0mutils\u001b[0m\u001b[0;34m.\u001b[0m\u001b[0mcheckpoint\u001b[0m \u001b[0;32mas\u001b[0m \u001b[0mcheckpoint\u001b[0m\u001b[0;34m\u001b[0m\u001b[0;34m\u001b[0m\u001b[0m\n\u001b[0m\u001b[1;32m     19\u001b[0m \u001b[0;34m\u001b[0m\u001b[0m\n\u001b[1;32m     20\u001b[0m \u001b[0;32mfrom\u001b[0m \u001b[0multralytics\u001b[0m\u001b[0;34m.\u001b[0m\u001b[0mnn\u001b[0m\u001b[0;34m.\u001b[0m\u001b[0mmodules\u001b[0m \u001b[0;32mimport\u001b[0m \u001b[0mLayerNorm2d\u001b[0m\u001b[0;34m\u001b[0m\u001b[0;34m\u001b[0m\u001b[0m\n",
            "\u001b[0;32m/usr/local/lib/python3.11/dist-packages/torch/utils/checkpoint.py\u001b[0m in \u001b[0;36m<module>\u001b[0;34m\u001b[0m\n\u001b[1;32m     13\u001b[0m \u001b[0;32mimport\u001b[0m \u001b[0mtorch\u001b[0m\u001b[0;34m\u001b[0m\u001b[0;34m\u001b[0m\u001b[0m\n\u001b[1;32m     14\u001b[0m \u001b[0;32mimport\u001b[0m \u001b[0mtorch\u001b[0m\u001b[0;34m.\u001b[0m\u001b[0mfx\u001b[0m\u001b[0;34m.\u001b[0m\u001b[0mtraceback\u001b[0m \u001b[0;32mas\u001b[0m \u001b[0mfx_traceback\u001b[0m\u001b[0;34m\u001b[0m\u001b[0;34m\u001b[0m\u001b[0m\n\u001b[0;32m---> 15\u001b[0;31m \u001b[0;32mfrom\u001b[0m \u001b[0mtorch\u001b[0m\u001b[0;34m.\u001b[0m\u001b[0m_functorch\u001b[0m\u001b[0;34m.\u001b[0m\u001b[0m_aot_autograd\u001b[0m\u001b[0;34m.\u001b[0m\u001b[0mfunctional_utils\u001b[0m \u001b[0;32mimport\u001b[0m \u001b[0mis_fun\u001b[0m\u001b[0;34m\u001b[0m\u001b[0;34m\u001b[0m\u001b[0m\n\u001b[0m\u001b[1;32m     16\u001b[0m \u001b[0;32mfrom\u001b[0m \u001b[0mtorch\u001b[0m\u001b[0;34m.\u001b[0m\u001b[0mutils\u001b[0m\u001b[0;34m.\u001b[0m\u001b[0m_pytree\u001b[0m \u001b[0;32mimport\u001b[0m \u001b[0mtree_map\u001b[0m\u001b[0;34m\u001b[0m\u001b[0;34m\u001b[0m\u001b[0m\n\u001b[1;32m     17\u001b[0m \u001b[0;32mfrom\u001b[0m \u001b[0mtorch\u001b[0m\u001b[0;34m.\u001b[0m\u001b[0mtesting\u001b[0m\u001b[0;34m.\u001b[0m\u001b[0m_internal\u001b[0m\u001b[0;34m.\u001b[0m\u001b[0mlogging_tensor\u001b[0m \u001b[0;32mimport\u001b[0m \u001b[0mcapture_logs\u001b[0m\u001b[0;34m,\u001b[0m \u001b[0mLoggingTensorMode\u001b[0m\u001b[0;34m\u001b[0m\u001b[0;34m\u001b[0m\u001b[0m\n",
            "\u001b[0;32m/usr/local/lib/python3.11/dist-packages/torch/_functorch/_aot_autograd/functional_utils.py\u001b[0m in \u001b[0;36m<module>\u001b[0;34m\u001b[0m\n\u001b[1;32m     18\u001b[0m \u001b[0;32mfrom\u001b[0m \u001b[0mtorch\u001b[0m\u001b[0;34m.\u001b[0m\u001b[0m_subclasses\u001b[0m\u001b[0;34m.\u001b[0m\u001b[0mfunctional_tensor\u001b[0m \u001b[0;32mimport\u001b[0m \u001b[0mFunctionalTensor\u001b[0m\u001b[0;34m\u001b[0m\u001b[0;34m\u001b[0m\u001b[0m\n\u001b[1;32m     19\u001b[0m \u001b[0;32mfrom\u001b[0m \u001b[0mtorch\u001b[0m\u001b[0;34m.\u001b[0m\u001b[0m_subclasses\u001b[0m\u001b[0;34m.\u001b[0m\u001b[0mmeta_utils\u001b[0m \u001b[0;32mimport\u001b[0m \u001b[0mis_sparse_any\u001b[0m\u001b[0;34m\u001b[0m\u001b[0;34m\u001b[0m\u001b[0m\n\u001b[0;32m---> 20\u001b[0;31m from torch.fx.experimental.symbolic_shapes import (\n\u001b[0m\u001b[1;32m     21\u001b[0m     \u001b[0mdefinitely_true\u001b[0m\u001b[0;34m,\u001b[0m\u001b[0;34m\u001b[0m\u001b[0;34m\u001b[0m\u001b[0m\n\u001b[1;32m     22\u001b[0m     \u001b[0msym_eq\u001b[0m\u001b[0;34m,\u001b[0m\u001b[0;34m\u001b[0m\u001b[0;34m\u001b[0m\u001b[0m\n",
            "\u001b[0;32m/usr/local/lib/python3.11/dist-packages/torch/fx/experimental/symbolic_shapes.py\u001b[0m in \u001b[0;36m<module>\u001b[0;34m\u001b[0m\n\u001b[1;32m     72\u001b[0m \u001b[0;32mfrom\u001b[0m \u001b[0mtorch\u001b[0m\u001b[0;34m.\u001b[0m\u001b[0mutils\u001b[0m\u001b[0;34m.\u001b[0m\u001b[0m_ordered_set\u001b[0m \u001b[0;32mimport\u001b[0m \u001b[0mOrderedSet\u001b[0m\u001b[0;34m\u001b[0m\u001b[0;34m\u001b[0m\u001b[0m\n\u001b[1;32m     73\u001b[0m \u001b[0;32mfrom\u001b[0m \u001b[0mtorch\u001b[0m\u001b[0;34m.\u001b[0m\u001b[0mutils\u001b[0m\u001b[0;34m.\u001b[0m\u001b[0m_python_dispatch\u001b[0m \u001b[0;32mimport\u001b[0m \u001b[0mis_traceable_wrapper_subclass\u001b[0m\u001b[0;34m\u001b[0m\u001b[0;34m\u001b[0m\u001b[0m\n\u001b[0;32m---> 74\u001b[0;31m from torch.utils._sympy.functions import (\n\u001b[0m\u001b[1;32m     75\u001b[0m     \u001b[0mApplication\u001b[0m\u001b[0;34m,\u001b[0m\u001b[0;34m\u001b[0m\u001b[0;34m\u001b[0m\u001b[0m\n\u001b[1;32m     76\u001b[0m     \u001b[0mCeilToInt\u001b[0m\u001b[0;34m,\u001b[0m\u001b[0;34m\u001b[0m\u001b[0;34m\u001b[0m\u001b[0m\n",
            "\u001b[0;32m/usr/local/lib/python3.11/dist-packages/torch/utils/_sympy/functions.py\u001b[0m in \u001b[0;36m<module>\u001b[0;34m\u001b[0m\n\u001b[1;32m     16\u001b[0m )\n\u001b[1;32m     17\u001b[0m \u001b[0;34m\u001b[0m\u001b[0m\n\u001b[0;32m---> 18\u001b[0;31m \u001b[0;32mimport\u001b[0m \u001b[0msympy\u001b[0m\u001b[0;34m\u001b[0m\u001b[0;34m\u001b[0m\u001b[0m\n\u001b[0m\u001b[1;32m     19\u001b[0m \u001b[0;32mfrom\u001b[0m \u001b[0msympy\u001b[0m \u001b[0;32mimport\u001b[0m \u001b[0mS\u001b[0m\u001b[0;34m\u001b[0m\u001b[0;34m\u001b[0m\u001b[0m\n\u001b[1;32m     20\u001b[0m \u001b[0;32mfrom\u001b[0m \u001b[0msympy\u001b[0m\u001b[0;34m.\u001b[0m\u001b[0mcore\u001b[0m \u001b[0;32mimport\u001b[0m \u001b[0msympify\u001b[0m\u001b[0;34m\u001b[0m\u001b[0;34m\u001b[0m\u001b[0m\n",
            "\u001b[0;32m/usr/local/lib/python3.11/dist-packages/sympy/__init__.py\u001b[0m in \u001b[0;36m<module>\u001b[0;34m\u001b[0m\n\u001b[1;32m     72\u001b[0m         assuming, Q, ask, register_handler, remove_handler, refine)\n\u001b[1;32m     73\u001b[0m \u001b[0;34m\u001b[0m\u001b[0m\n\u001b[0;32m---> 74\u001b[0;31m from .polys import (Poly, PurePoly, poly_from_expr, parallel_poly_from_expr,\n\u001b[0m\u001b[1;32m     75\u001b[0m         \u001b[0mdegree\u001b[0m\u001b[0;34m,\u001b[0m \u001b[0mtotal_degree\u001b[0m\u001b[0;34m,\u001b[0m \u001b[0mdegree_list\u001b[0m\u001b[0;34m,\u001b[0m \u001b[0mLC\u001b[0m\u001b[0;34m,\u001b[0m \u001b[0mLM\u001b[0m\u001b[0;34m,\u001b[0m \u001b[0mLT\u001b[0m\u001b[0;34m,\u001b[0m \u001b[0mpdiv\u001b[0m\u001b[0;34m,\u001b[0m \u001b[0mprem\u001b[0m\u001b[0;34m,\u001b[0m \u001b[0mpquo\u001b[0m\u001b[0;34m,\u001b[0m\u001b[0;34m\u001b[0m\u001b[0;34m\u001b[0m\u001b[0m\n\u001b[1;32m     76\u001b[0m         \u001b[0mpexquo\u001b[0m\u001b[0;34m,\u001b[0m \u001b[0mdiv\u001b[0m\u001b[0;34m,\u001b[0m \u001b[0mrem\u001b[0m\u001b[0;34m,\u001b[0m \u001b[0mquo\u001b[0m\u001b[0;34m,\u001b[0m \u001b[0mexquo\u001b[0m\u001b[0;34m,\u001b[0m \u001b[0mhalf_gcdex\u001b[0m\u001b[0;34m,\u001b[0m \u001b[0mgcdex\u001b[0m\u001b[0;34m,\u001b[0m \u001b[0minvert\u001b[0m\u001b[0;34m,\u001b[0m\u001b[0;34m\u001b[0m\u001b[0;34m\u001b[0m\u001b[0m\n",
            "\u001b[0;32m/usr/local/lib/python3.11/dist-packages/sympy/polys/__init__.py\u001b[0m in \u001b[0;36m<module>\u001b[0;34m\u001b[0m\n\u001b[1;32m     77\u001b[0m         GroebnerBasis, poly)\n\u001b[1;32m     78\u001b[0m \u001b[0;34m\u001b[0m\u001b[0m\n\u001b[0;32m---> 79\u001b[0;31m from .polyfuncs import (symmetrize, horner, interpolate,\n\u001b[0m\u001b[1;32m     80\u001b[0m         rational_interpolate, viete)\n\u001b[1;32m     81\u001b[0m \u001b[0;34m\u001b[0m\u001b[0m\n",
            "\u001b[0;32m/usr/local/lib/python3.11/dist-packages/sympy/polys/polyfuncs.py\u001b[0m in \u001b[0;36m<module>\u001b[0;34m\u001b[0m\n\u001b[1;32m      8\u001b[0m \u001b[0;32mfrom\u001b[0m \u001b[0msympy\u001b[0m\u001b[0;34m.\u001b[0m\u001b[0mpolys\u001b[0m\u001b[0;34m.\u001b[0m\u001b[0mpolyoptions\u001b[0m \u001b[0;32mimport\u001b[0m \u001b[0mallowed_flags\u001b[0m\u001b[0;34m,\u001b[0m \u001b[0mbuild_options\u001b[0m\u001b[0;34m\u001b[0m\u001b[0;34m\u001b[0m\u001b[0m\n\u001b[1;32m      9\u001b[0m \u001b[0;32mfrom\u001b[0m \u001b[0msympy\u001b[0m\u001b[0;34m.\u001b[0m\u001b[0mpolys\u001b[0m\u001b[0;34m.\u001b[0m\u001b[0mpolytools\u001b[0m \u001b[0;32mimport\u001b[0m \u001b[0mpoly_from_expr\u001b[0m\u001b[0;34m,\u001b[0m \u001b[0mPoly\u001b[0m\u001b[0;34m\u001b[0m\u001b[0;34m\u001b[0m\u001b[0m\n\u001b[0;32m---> 10\u001b[0;31m from sympy.polys.specialpolys import (\n\u001b[0m\u001b[1;32m     11\u001b[0m     symmetric_poly, interpolating_poly)\n\u001b[1;32m     12\u001b[0m \u001b[0;32mfrom\u001b[0m \u001b[0msympy\u001b[0m\u001b[0;34m.\u001b[0m\u001b[0mpolys\u001b[0m\u001b[0;34m.\u001b[0m\u001b[0mrings\u001b[0m \u001b[0;32mimport\u001b[0m \u001b[0msring\u001b[0m\u001b[0;34m\u001b[0m\u001b[0;34m\u001b[0m\u001b[0m\n",
            "\u001b[0;32m/usr/local/lib/python3.11/dist-packages/sympy/polys/specialpolys.py\u001b[0m in \u001b[0;36m<module>\u001b[0;34m\u001b[0m\n\u001b[1;32m    296\u001b[0m \u001b[0;31m# A few useful polynomials from Wang's paper ('78).\u001b[0m\u001b[0;34m\u001b[0m\u001b[0;34m\u001b[0m\u001b[0m\n\u001b[1;32m    297\u001b[0m \u001b[0;34m\u001b[0m\u001b[0m\n\u001b[0;32m--> 298\u001b[0;31m \u001b[0;32mfrom\u001b[0m \u001b[0msympy\u001b[0m\u001b[0;34m.\u001b[0m\u001b[0mpolys\u001b[0m\u001b[0;34m.\u001b[0m\u001b[0mrings\u001b[0m \u001b[0;32mimport\u001b[0m \u001b[0mring\u001b[0m\u001b[0;34m\u001b[0m\u001b[0;34m\u001b[0m\u001b[0m\n\u001b[0m\u001b[1;32m    299\u001b[0m \u001b[0;34m\u001b[0m\u001b[0m\n\u001b[1;32m    300\u001b[0m \u001b[0;32mdef\u001b[0m \u001b[0m_f_0\u001b[0m\u001b[0;34m(\u001b[0m\u001b[0;34m)\u001b[0m\u001b[0;34m:\u001b[0m\u001b[0;34m\u001b[0m\u001b[0;34m\u001b[0m\u001b[0m\n",
            "\u001b[0;32m/usr/local/lib/python3.11/dist-packages/sympy/polys/rings.py\u001b[0m in \u001b[0;36m<module>\u001b[0;34m\u001b[0m\n\u001b[1;32m     28\u001b[0m from sympy.polys.polyutils import (expr_from_dict, _dict_reorder,\n\u001b[1;32m     29\u001b[0m                                    _parallel_dict_from_expr)\n\u001b[0;32m---> 30\u001b[0;31m \u001b[0;32mfrom\u001b[0m \u001b[0msympy\u001b[0m\u001b[0;34m.\u001b[0m\u001b[0mprinting\u001b[0m\u001b[0;34m.\u001b[0m\u001b[0mdefaults\u001b[0m \u001b[0;32mimport\u001b[0m \u001b[0mDefaultPrinting\u001b[0m\u001b[0;34m\u001b[0m\u001b[0;34m\u001b[0m\u001b[0m\n\u001b[0m\u001b[1;32m     31\u001b[0m \u001b[0;32mfrom\u001b[0m \u001b[0msympy\u001b[0m\u001b[0;34m.\u001b[0m\u001b[0mutilities\u001b[0m \u001b[0;32mimport\u001b[0m \u001b[0mpublic\u001b[0m\u001b[0;34m,\u001b[0m \u001b[0msubsets\u001b[0m\u001b[0;34m\u001b[0m\u001b[0;34m\u001b[0m\u001b[0m\n\u001b[1;32m     32\u001b[0m \u001b[0;32mfrom\u001b[0m \u001b[0msympy\u001b[0m\u001b[0;34m.\u001b[0m\u001b[0mutilities\u001b[0m\u001b[0;34m.\u001b[0m\u001b[0miterables\u001b[0m \u001b[0;32mimport\u001b[0m \u001b[0mis_sequence\u001b[0m\u001b[0;34m\u001b[0m\u001b[0;34m\u001b[0m\u001b[0m\n",
            "\u001b[0;32m/usr/local/lib/python3.11/dist-packages/sympy/printing/__init__.py\u001b[0m in \u001b[0;36m<module>\u001b[0;34m\u001b[0m\n\u001b[1;32m      7\u001b[0m \u001b[0;32mfrom\u001b[0m \u001b[0;34m.\u001b[0m\u001b[0mmathml\u001b[0m \u001b[0;32mimport\u001b[0m \u001b[0mmathml\u001b[0m\u001b[0;34m,\u001b[0m \u001b[0mprint_mathml\u001b[0m\u001b[0;34m\u001b[0m\u001b[0;34m\u001b[0m\u001b[0m\n\u001b[1;32m      8\u001b[0m \u001b[0;34m\u001b[0m\u001b[0m\n\u001b[0;32m----> 9\u001b[0;31m \u001b[0;32mfrom\u001b[0m \u001b[0;34m.\u001b[0m\u001b[0mpython\u001b[0m \u001b[0;32mimport\u001b[0m \u001b[0mpython\u001b[0m\u001b[0;34m,\u001b[0m \u001b[0mprint_python\u001b[0m\u001b[0;34m\u001b[0m\u001b[0;34m\u001b[0m\u001b[0m\n\u001b[0m\u001b[1;32m     10\u001b[0m \u001b[0;34m\u001b[0m\u001b[0m\n\u001b[1;32m     11\u001b[0m \u001b[0;32mfrom\u001b[0m \u001b[0;34m.\u001b[0m\u001b[0mpycode\u001b[0m \u001b[0;32mimport\u001b[0m \u001b[0mpycode\u001b[0m\u001b[0;34m\u001b[0m\u001b[0;34m\u001b[0m\u001b[0m\n",
            "\u001b[0;32m/usr/local/lib/python3.11/dist-packages/sympy/printing/python.py\u001b[0m in \u001b[0;36m<module>\u001b[0;34m\u001b[0m\n\u001b[1;32m      1\u001b[0m \u001b[0;32mimport\u001b[0m \u001b[0mkeyword\u001b[0m \u001b[0;32mas\u001b[0m \u001b[0mkw\u001b[0m\u001b[0;34m\u001b[0m\u001b[0;34m\u001b[0m\u001b[0m\n\u001b[1;32m      2\u001b[0m \u001b[0;32mimport\u001b[0m \u001b[0msympy\u001b[0m\u001b[0;34m\u001b[0m\u001b[0;34m\u001b[0m\u001b[0m\n\u001b[0;32m----> 3\u001b[0;31m \u001b[0;32mfrom\u001b[0m \u001b[0;34m.\u001b[0m\u001b[0mrepr\u001b[0m \u001b[0;32mimport\u001b[0m \u001b[0mReprPrinter\u001b[0m\u001b[0;34m\u001b[0m\u001b[0;34m\u001b[0m\u001b[0m\n\u001b[0m\u001b[1;32m      4\u001b[0m \u001b[0;32mfrom\u001b[0m \u001b[0;34m.\u001b[0m\u001b[0mstr\u001b[0m \u001b[0;32mimport\u001b[0m \u001b[0mStrPrinter\u001b[0m\u001b[0;34m\u001b[0m\u001b[0;34m\u001b[0m\u001b[0m\n\u001b[1;32m      5\u001b[0m \u001b[0;34m\u001b[0m\u001b[0m\n",
            "\u001b[0;31mKeyboardInterrupt\u001b[0m: "
          ]
        }
      ]
    },
    {
      "cell_type": "code",
      "source": [
        "import sympy\n",
        "\n",
        "from ultralytics import YOLO\n",
        "\n",
        "# تحميل النموذج الأساسي (تقدر تبدأ من yolov8n, yolov8s, yolov8m, yolov8l, yolov8x حسب الموارد)\n",
        "model = YOLO(\"yolov8s.pt\")  # أو yolov8n.pt لو تبي نموذج خفيف\n",
        "\n",
        "# تدريب النموذج\n",
        "model.train(\n",
        "    data=\"/content/dataset/data.yaml\",  # مسار ملف .yaml\n",
        "    epochs=10,                      # عدد التكرارات\n",
        "    imgsz=640,                      # حجم الصورة\n",
        "    batch=8,                        # حجم الدفعة (حسب مواصفات جهازك)\n",
        "    name=\"yolo8-offside-detection\",# اسم المشروع/المجلد لحفظ النتائج\n",
        "    workers=2,                      # عدد الـ CPU cores المستخدمة في التحميل\n",
        "    device=\"CPU\"                        # رقم كرت الشاشة، 0 يعني أول GPU\n",
        ")\n"
      ],
      "metadata": {
        "colab": {
          "base_uri": "https://localhost:8080/"
        },
        "id": "EwUy5r6OtNY7",
        "outputId": "4c995d3b-0304-4892-bfcd-e8eb80f534ba"
      },
      "execution_count": null,
      "outputs": [
        {
          "output_type": "stream",
          "name": "stdout",
          "text": [
            "Downloading https://github.com/ultralytics/assets/releases/download/v8.3.0/yolov8s.pt to 'yolov8s.pt'...\n"
          ]
        },
        {
          "output_type": "stream",
          "name": "stderr",
          "text": [
            "100%|██████████| 21.5M/21.5M [00:00<00:00, 143MB/s] \n"
          ]
        },
        {
          "output_type": "stream",
          "name": "stdout",
          "text": [
            "Ultralytics 8.3.105 🚀 Python-3.11.11 torch-2.6.0+cu124 CPU (Intel Xeon 2.20GHz)\n",
            "\u001b[34m\u001b[1mengine/trainer: \u001b[0mtask=detect, mode=train, model=yolov8s.pt, data=/content/dataset/data.yaml, epochs=10, time=None, patience=100, batch=8, imgsz=640, save=True, save_period=-1, cache=False, device=CPU, workers=2, project=None, name=yolo8-offside-detection, exist_ok=False, pretrained=True, optimizer=auto, verbose=True, seed=0, deterministic=True, single_cls=False, rect=False, cos_lr=False, close_mosaic=10, resume=False, amp=True, fraction=1.0, profile=False, freeze=None, multi_scale=False, overlap_mask=True, mask_ratio=4, dropout=0.0, val=True, split=val, save_json=False, conf=None, iou=0.7, max_det=300, half=False, dnn=False, plots=True, source=None, vid_stride=1, stream_buffer=False, visualize=False, augment=False, agnostic_nms=False, classes=None, retina_masks=False, embed=None, show=False, save_frames=False, save_txt=False, save_conf=False, save_crop=False, show_labels=True, show_conf=True, show_boxes=True, line_width=None, format=torchscript, keras=False, optimize=False, int8=False, dynamic=False, simplify=True, opset=None, workspace=None, nms=False, lr0=0.01, lrf=0.01, momentum=0.937, weight_decay=0.0005, warmup_epochs=3.0, warmup_momentum=0.8, warmup_bias_lr=0.1, box=7.5, cls=0.5, dfl=1.5, pose=12.0, kobj=1.0, nbs=64, hsv_h=0.015, hsv_s=0.7, hsv_v=0.4, degrees=0.0, translate=0.1, scale=0.5, shear=0.0, perspective=0.0, flipud=0.0, fliplr=0.5, bgr=0.0, mosaic=1.0, mixup=0.0, copy_paste=0.0, copy_paste_mode=flip, auto_augment=randaugment, erasing=0.4, crop_fraction=1.0, cfg=None, tracker=botsort.yaml, save_dir=runs/detect/yolo8-offside-detection\n",
            "Downloading https://ultralytics.com/assets/Arial.ttf to '/root/.config/Ultralytics/Arial.ttf'...\n"
          ]
        },
        {
          "output_type": "stream",
          "name": "stderr",
          "text": [
            "100%|██████████| 755k/755k [00:00<00:00, 13.5MB/s]\n"
          ]
        },
        {
          "output_type": "stream",
          "name": "stdout",
          "text": [
            "Overriding model.yaml nc=80 with nc=4\n",
            "\n",
            "                   from  n    params  module                                       arguments                     \n",
            "  0                  -1  1       928  ultralytics.nn.modules.conv.Conv             [3, 32, 3, 2]                 \n",
            "  1                  -1  1     18560  ultralytics.nn.modules.conv.Conv             [32, 64, 3, 2]                \n",
            "  2                  -1  1     29056  ultralytics.nn.modules.block.C2f             [64, 64, 1, True]             \n",
            "  3                  -1  1     73984  ultralytics.nn.modules.conv.Conv             [64, 128, 3, 2]               \n",
            "  4                  -1  2    197632  ultralytics.nn.modules.block.C2f             [128, 128, 2, True]           \n",
            "  5                  -1  1    295424  ultralytics.nn.modules.conv.Conv             [128, 256, 3, 2]              \n",
            "  6                  -1  2    788480  ultralytics.nn.modules.block.C2f             [256, 256, 2, True]           \n",
            "  7                  -1  1   1180672  ultralytics.nn.modules.conv.Conv             [256, 512, 3, 2]              \n",
            "  8                  -1  1   1838080  ultralytics.nn.modules.block.C2f             [512, 512, 1, True]           \n",
            "  9                  -1  1    656896  ultralytics.nn.modules.block.SPPF            [512, 512, 5]                 \n",
            " 10                  -1  1         0  torch.nn.modules.upsampling.Upsample         [None, 2, 'nearest']          \n",
            " 11             [-1, 6]  1         0  ultralytics.nn.modules.conv.Concat           [1]                           \n",
            " 12                  -1  1    591360  ultralytics.nn.modules.block.C2f             [768, 256, 1]                 \n",
            " 13                  -1  1         0  torch.nn.modules.upsampling.Upsample         [None, 2, 'nearest']          \n",
            " 14             [-1, 4]  1         0  ultralytics.nn.modules.conv.Concat           [1]                           \n",
            " 15                  -1  1    148224  ultralytics.nn.modules.block.C2f             [384, 128, 1]                 \n",
            " 16                  -1  1    147712  ultralytics.nn.modules.conv.Conv             [128, 128, 3, 2]              \n",
            " 17            [-1, 12]  1         0  ultralytics.nn.modules.conv.Concat           [1]                           \n",
            " 18                  -1  1    493056  ultralytics.nn.modules.block.C2f             [384, 256, 1]                 \n",
            " 19                  -1  1    590336  ultralytics.nn.modules.conv.Conv             [256, 256, 3, 2]              \n",
            " 20             [-1, 9]  1         0  ultralytics.nn.modules.conv.Concat           [1]                           \n",
            " 21                  -1  1   1969152  ultralytics.nn.modules.block.C2f             [768, 512, 1]                 \n",
            " 22        [15, 18, 21]  1   2117596  ultralytics.nn.modules.head.Detect           [4, [128, 256, 512]]          \n",
            "Model summary: 129 layers, 11,137,148 parameters, 11,137,132 gradients, 28.7 GFLOPs\n",
            "\n",
            "Transferred 349/355 items from pretrained weights\n",
            "\u001b[34m\u001b[1mTensorBoard: \u001b[0mStart with 'tensorboard --logdir runs/detect/yolo8-offside-detection', view at http://localhost:6006/\n",
            "Freezing layer 'model.22.dfl.conv.weight'\n"
          ]
        },
        {
          "output_type": "stream",
          "name": "stderr",
          "text": [
            "\u001b[34m\u001b[1mtrain: \u001b[0mScanning /content/dataset/train/labels... 159 images, 0 backgrounds, 1 corrupt: 100%|██████████| 159/159 [00:00<00:00, 586.30it/s]"
          ]
        },
        {
          "output_type": "stream",
          "name": "stdout",
          "text": [
            "\u001b[34m\u001b[1mtrain: \u001b[0mWARNING ⚠️ /content/dataset/train/images/WhatsApp-Image-2025-03-19-at-5_13_17-PM_jpeg.rf.b238767378a536c34fa08b4121fe2cea.jpg: ignoring corrupt image/label: non-normalized or out of bounds coordinates [     1.0002]\n",
            "\u001b[34m\u001b[1mtrain: \u001b[0mNew cache created: /content/dataset/train/labels.cache\n"
          ]
        },
        {
          "output_type": "stream",
          "name": "stderr",
          "text": [
            "\n"
          ]
        },
        {
          "output_type": "stream",
          "name": "stdout",
          "text": [
            "\u001b[34m\u001b[1malbumentations: \u001b[0mBlur(p=0.01, blur_limit=(3, 7)), MedianBlur(p=0.01, blur_limit=(3, 7)), ToGray(p=0.01, num_output_channels=3, method='weighted_average'), CLAHE(p=0.01, clip_limit=(1.0, 4.0), tile_grid_size=(8, 8))\n"
          ]
        },
        {
          "output_type": "stream",
          "name": "stderr",
          "text": [
            "\u001b[34m\u001b[1mval: \u001b[0mScanning /content/dataset/valid/labels... 15 images, 0 backgrounds, 0 corrupt: 100%|██████████| 15/15 [00:00<00:00, 869.90it/s]"
          ]
        },
        {
          "output_type": "stream",
          "name": "stdout",
          "text": [
            "\u001b[34m\u001b[1mval: \u001b[0mNew cache created: /content/dataset/valid/labels.cache\n"
          ]
        },
        {
          "output_type": "stream",
          "name": "stderr",
          "text": [
            "\n"
          ]
        },
        {
          "output_type": "stream",
          "name": "stdout",
          "text": [
            "Plotting labels to runs/detect/yolo8-offside-detection/labels.jpg... \n",
            "\u001b[34m\u001b[1moptimizer:\u001b[0m 'optimizer=auto' found, ignoring 'lr0=0.01' and 'momentum=0.937' and determining best 'optimizer', 'lr0' and 'momentum' automatically... \n",
            "\u001b[34m\u001b[1moptimizer:\u001b[0m AdamW(lr=0.00125, momentum=0.9) with parameter groups 57 weight(decay=0.0), 64 weight(decay=0.0005), 63 bias(decay=0.0)\n",
            "\u001b[34m\u001b[1mTensorBoard: \u001b[0mmodel graph visualization added ✅\n",
            "Image sizes 640 train, 640 val\n",
            "Using 0 dataloader workers\n",
            "Logging results to \u001b[1mruns/detect/yolo8-offside-detection\u001b[0m\n",
            "Starting training for 10 epochs...\n",
            "Closing dataloader mosaic\n",
            "\u001b[34m\u001b[1malbumentations: \u001b[0mBlur(p=0.01, blur_limit=(3, 7)), MedianBlur(p=0.01, blur_limit=(3, 7)), ToGray(p=0.01, num_output_channels=3, method='weighted_average'), CLAHE(p=0.01, clip_limit=(1.0, 4.0), tile_grid_size=(8, 8))\n",
            "\n",
            "      Epoch    GPU_mem   box_loss   cls_loss   dfl_loss  Instances       Size\n"
          ]
        },
        {
          "output_type": "stream",
          "name": "stderr",
          "text": [
            "       1/10         0G      2.037      3.984      1.551         33        640: 100%|██████████| 20/20 [06:13<00:00, 18.68s/it]\n",
            "                 Class     Images  Instances      Box(P          R      mAP50  mAP50-95): 100%|██████████| 1/1 [00:13<00:00, 13.19s/it]"
          ]
        },
        {
          "output_type": "stream",
          "name": "stdout",
          "text": [
            "                   all         15         65     0.0368      0.198     0.0475     0.0248\n"
          ]
        },
        {
          "output_type": "stream",
          "name": "stderr",
          "text": [
            "\n"
          ]
        },
        {
          "output_type": "stream",
          "name": "stdout",
          "text": [
            "\n",
            "      Epoch    GPU_mem   box_loss   cls_loss   dfl_loss  Instances       Size\n"
          ]
        },
        {
          "output_type": "stream",
          "name": "stderr",
          "text": [
            "       2/10         0G      1.803      2.786      1.339         26        640: 100%|██████████| 20/20 [06:01<00:00, 18.05s/it]\n",
            "                 Class     Images  Instances      Box(P          R      mAP50  mAP50-95): 100%|██████████| 1/1 [00:11<00:00, 11.87s/it]"
          ]
        },
        {
          "output_type": "stream",
          "name": "stdout",
          "text": [
            "                   all         15         65     0.0771      0.464      0.082      0.044\n"
          ]
        },
        {
          "output_type": "stream",
          "name": "stderr",
          "text": [
            "\n"
          ]
        },
        {
          "output_type": "stream",
          "name": "stdout",
          "text": [
            "\n",
            "      Epoch    GPU_mem   box_loss   cls_loss   dfl_loss  Instances       Size\n"
          ]
        },
        {
          "output_type": "stream",
          "name": "stderr",
          "text": [
            "       3/10         0G      1.738      2.487      1.346         26        640: 100%|██████████| 20/20 [06:00<00:00, 18.02s/it]\n",
            "                 Class     Images  Instances      Box(P          R      mAP50  mAP50-95): 100%|██████████| 1/1 [00:11<00:00, 11.70s/it]"
          ]
        },
        {
          "output_type": "stream",
          "name": "stdout",
          "text": [
            "                   all         15         65     0.0904      0.362      0.113     0.0478\n"
          ]
        },
        {
          "output_type": "stream",
          "name": "stderr",
          "text": [
            "\n"
          ]
        },
        {
          "output_type": "stream",
          "name": "stdout",
          "text": [
            "\n",
            "      Epoch    GPU_mem   box_loss   cls_loss   dfl_loss  Instances       Size\n"
          ]
        },
        {
          "output_type": "stream",
          "name": "stderr",
          "text": [
            "       4/10         0G      1.694      2.322        1.3         37        640:  25%|██▌       | 5/20 [01:30<04:31, 18.11s/it]"
          ]
        }
      ]
    },
    {
      "cell_type": "code",
      "source": [],
      "metadata": {
        "id": "Zzb2yoLCSTHf"
      },
      "execution_count": null,
      "outputs": []
    }
  ]
}